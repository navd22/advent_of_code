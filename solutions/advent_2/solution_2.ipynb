{
 "cells": [
  {
   "cell_type": "code",
   "execution_count": 1,
   "metadata": {},
   "outputs": [
    {
     "name": "stdout",
     "output_type": "stream",
     "text": [
      "2322630\n",
      "2105273490\n"
     ]
    }
   ],
   "source": [
    "INPUTPATH = \"2.txt\"\n",
    "#INPUTPATH = \"input-test.txt\"\n",
    "with open(INPUTPATH) as ifile:\n",
    "    raw = ifile.read()\n",
    "\n",
    "h, d = 0, 0\n",
    "for word, num in (s.split() for s in raw.strip().split(\"\\n\")):\n",
    "    n = int(num)\n",
    "    if word == \"forward\":\n",
    "        h += n\n",
    "    elif word == \"down\":\n",
    "        d += n\n",
    "    elif word == \"up\":\n",
    "        d -= n\n",
    "print(h * d)\n",
    "\n",
    "h, d, aim = 0, 0, 0\n",
    "for word, num in (s.split() for s in raw.strip().split(\"\\n\")):\n",
    "    n = int(num)\n",
    "    if word == \"forward\":\n",
    "        h += n\n",
    "        d += n * aim\n",
    "    elif word == \"down\":\n",
    "        aim += n\n",
    "    elif word == \"up\":\n",
    "        aim -= n\n",
    "print(h * d)"
   ]
  },
  {
   "cell_type": "code",
   "execution_count": null,
   "metadata": {},
   "outputs": [],
   "source": []
  }
 ],
 "metadata": {
  "kernelspec": {
   "display_name": "Python 3",
   "language": "python",
   "name": "python3"
  },
  "language_info": {
   "codemirror_mode": {
    "name": "ipython",
    "version": 3
   },
   "file_extension": ".py",
   "mimetype": "text/x-python",
   "name": "python",
   "nbconvert_exporter": "python",
   "pygments_lexer": "ipython3",
   "version": "3.8.5"
  }
 },
 "nbformat": 4,
 "nbformat_minor": 4
}

{
 "cells": [
  {
   "cell_type": "code",
   "execution_count": null,
   "metadata": {},
   "outputs": [],
   "source": [
    "import functools\n",
    "from typing import Optional\n",
    "\n",
    "with open(\"24.txt\") as file:\n",
    "    INSTRUCTIONS = [line.split() for line in file.readlines()]\n",
    "\n",
    "MAX_Z = 10 ** 7\n",
    "\n",
    "\n",
    "@functools.cache\n",
    "def check_serial(program_counter: int, w: int, x: int, y: int, z: int) -> Optional[str]:\n",
    "    # Heuristic\n",
    "    if z > MAX_Z:\n",
    "        return None\n",
    "\n",
    "    instruction = INSTRUCTIONS[program_counter]\n",
    "    regs = {\"w\": w, \"x\": x, \"y\": y, \"z\": z}\n",
    "\n",
    "    if instruction[0] == \"inp\":\n",
    "        for i in range(9, 0, -1):\n",
    "            if solution := check_serial(program_counter + 1, i, x, y, z):\n",
    "                return str(i) + solution\n",
    "    else:\n",
    "        op, reg1, reg2 = instruction\n",
    "\n",
    "        operand1 = regs[reg1]\n",
    "        try:\n",
    "            operand2 = int(reg2)\n",
    "        except ValueError:\n",
    "            operand2 = regs[reg2]\n",
    "\n",
    "        match op:\n",
    "            case \"add\":\n",
    "                r = operand1 + operand2\n",
    "            case \"mul\":\n",
    "                r = operand1 * operand2\n",
    "            case \"div\":\n",
    "                r = int(operand1 / operand2)\n",
    "            case \"mod\":\n",
    "                r = operand1 % operand2\n",
    "            case \"eql\":\n",
    "                r = int(operand1 == operand2)\n",
    "            case _:\n",
    "                raise ValueError(f\"Unknown operation {op!r}\")\n",
    "\n",
    "        regs[reg1] = r\n",
    "\n",
    "    if program_counter == len(INSTRUCTIONS) - 1:\n",
    "        return \"v\" if regs[\"z\"] == 0 else None\n",
    "    return check_serial(program_counter + 1, **regs)\n",
    "\n",
    "\n",
    "print(check_serial(0, 0, 0, 0, 0).strip(\"v\"))"
   ]
  },
  {
   "cell_type": "code",
   "execution_count": null,
   "metadata": {},
   "outputs": [],
   "source": []
  }
 ],
 "metadata": {
  "kernelspec": {
   "display_name": "Python 3",
   "language": "python",
   "name": "python3"
  },
  "language_info": {
   "codemirror_mode": {
    "name": "ipython",
    "version": 3
   },
   "file_extension": ".py",
   "mimetype": "text/x-python",
   "name": "python",
   "nbconvert_exporter": "python",
   "pygments_lexer": "ipython3",
   "version": "3.8.5"
  }
 },
 "nbformat": 4,
 "nbformat_minor": 4
}

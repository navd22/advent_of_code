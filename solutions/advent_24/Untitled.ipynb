{
 "cells": [
  {
   "cell_type": "code",
   "execution_count": 5,
   "metadata": {},
   "outputs": [
    {
     "name": "stdout",
     "output_type": "stream",
     "text": [
      "92793949489995\n",
      "51131616112781\n"
     ]
    }
   ],
   "source": [
    "import pathlib\n",
    "\n",
    "with open(f\"24.txt\", 'r') as file:\n",
    "    lines = [line.rstrip() for line in file]\n",
    "\n",
    "# returns a two or three tuple\n",
    "f = lambda x: int(lines[x].split(' ')[2])\n",
    "blocks = [(f(b+4), f(b+5), f(b+15)) for b in range(0, len(lines), 18)]\n",
    "\n",
    "# pair up the inputs and get their relative difference.\n",
    "pairs, stack = {},[]\n",
    "for i in range(len(blocks)):\n",
    "    if blocks[i][0] == 1:\n",
    "        stack.append((i, blocks[i][2]))\n",
    "    else:\n",
    "        pairs[stack.pop(-1)[0]] = (i, stack[-1][1]+blocks[i][1])\n",
    "\n",
    "for diffunc in [lambda d: (min(9-d, 9), min(9, 9+d)), lambda d: (max(1-d,1), max(1, 1+d))]:\n",
    "    num = [None]*len(blocks)\n",
    "\n",
    "    for i in range(len(num)):\n",
    "        if num[i] is None:\n",
    "            num[i], num[pairs[i][0]] = diffunc(pairs[i][1])\n",
    "\n",
    "    print(''.join(map(str, num)))"
   ]
  },
  {
   "cell_type": "code",
   "execution_count": null,
   "metadata": {},
   "outputs": [],
   "source": []
  }
 ],
 "metadata": {
  "kernelspec": {
   "display_name": "Python 3",
   "language": "python",
   "name": "python3"
  },
  "language_info": {
   "codemirror_mode": {
    "name": "ipython",
    "version": 3
   },
   "file_extension": ".py",
   "mimetype": "text/x-python",
   "name": "python",
   "nbconvert_exporter": "python",
   "pygments_lexer": "ipython3",
   "version": "3.8.5"
  }
 },
 "nbformat": 4,
 "nbformat_minor": 4
}

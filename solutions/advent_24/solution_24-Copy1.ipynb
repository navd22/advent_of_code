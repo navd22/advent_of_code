{
 "cells": [
  {
   "cell_type": "code",
   "execution_count": 1,
   "metadata": {},
   "outputs": [
    {
     "name": "stdout",
     "output_type": "stream",
     "text": [
      "Processing program number 0... time elapsed since start : 0.00015592575073242188s, 1 to treat.\n",
      "Processing program number 1... time elapsed since start : 0.00028514862060546875s, 9 to treat.\n",
      "Processing program number 2... time elapsed since start : 0.0003662109375s, 81 to treat.\n",
      "Processing program number 3... time elapsed since start : 0.0010502338409423828s, 729 to treat.\n",
      "Processing program number 4... time elapsed since start : 0.007625102996826172s, 810 to treat.\n",
      "Processing program number 5... time elapsed since start : 0.015458106994628906s, 7290 to treat.\n",
      "Processing program number 6... time elapsed since start : 0.093292236328125s, 65610 to treat.\n",
      "Processing program number 7... time elapsed since start : 0.9098351001739502s, 590490 to treat.\n",
      "Processing program number 8... time elapsed since start : 5.771197080612183s, 656100 to treat.\n",
      "Processing program number 9... time elapsed since start : 11.40761923789978s, 696600 to treat.\n",
      "Processing program number 10... time elapsed since start : 20.53415608406067s, 6269400 to treat.\n",
      "Processing program number 11... time elapsed since start : 87.78535509109497s, 6850170 to treat.\n",
      "Processing program number 12... time elapsed since start : 153.33312320709229s, 6606765 to treat.\n",
      "Processing program number 13... time elapsed since start : 216.74444818496704s, 6578568 to treat.\n",
      "Results: [51131616112781, 92793949489995], 278.9731090068817s\n"
     ]
    }
   ],
   "source": [
    "#! /usr/bin/env python3\n",
    "\n",
    "import re\n",
    "from time import time\n",
    "\n",
    "def fun(div, add_x, add_y, w, z) :\n",
    "    if (z%26)+add_x != w :\n",
    "        return (26*(z//div))+w+add_y\n",
    "    else :\n",
    "        return z//div\n",
    "\n",
    "\n",
    "MONAD = open(\"24.txt\").read().split('\\n') \n",
    "div, add_x, add_y = -1, -1, -1\n",
    "to_apply = [] \n",
    "\n",
    "for i in range(len(MONAD)) :\n",
    "    if 'div' in MONAD[i] : \n",
    "        div = int(re.findall(r\"-?\\d+\", MONAD[i])[0])\n",
    "    add = re.match(r\"add x (-?\\d+)\", MONAD[i])\n",
    "    if add is not None :\n",
    "        add_x = int(add.group(1))\n",
    "    if i > 1 and MONAD[i-1] == 'add y w' :\n",
    "        add_y = int(re.findall(r\"-?\\d+\", MONAD[i])[0])\n",
    "        to_apply.append((div, add_x, add_y))\n",
    "\n",
    "stack = {0: [0, 0]}\n",
    "st = time()\n",
    "k = 0\n",
    "\n",
    "for div, add_x, add_y in to_apply :\n",
    "    newStack = {}\n",
    "    print(f\"Processing program number {k}... time elapsed since start : {time() - st}s, {len(stack)} to treat.\")\n",
    "    k += 1 \n",
    "    for z, [min, max] in stack.items() :\n",
    "        for i in range(1, 10) :\n",
    "            new_z = fun(div, add_x, add_y, i, z)\n",
    "            if new_z in newStack :\n",
    "                mn, mx = newStack[new_z]\n",
    "                if min*10+i < mn : mn = min*10+i\n",
    "                if max*10+i > mx : mx = max*10+i\n",
    "                newStack[new_z] = [mn, mx]\n",
    "            else :\n",
    "                newStack[new_z] = [min*10+i, max*10+i]\n",
    "    stack = newStack\n",
    "\n",
    "print(f\"Results: {stack[0]}, {time() - st}s\")"
   ]
  },
  {
   "cell_type": "code",
   "execution_count": null,
   "metadata": {},
   "outputs": [],
   "source": []
  }
 ],
 "metadata": {
  "kernelspec": {
   "display_name": "Python 3",
   "language": "python",
   "name": "python3"
  },
  "language_info": {
   "codemirror_mode": {
    "name": "ipython",
    "version": 3
   },
   "file_extension": ".py",
   "mimetype": "text/x-python",
   "name": "python",
   "nbconvert_exporter": "python",
   "pygments_lexer": "ipython3",
   "version": "3.8.5"
  }
 },
 "nbformat": 4,
 "nbformat_minor": 4
}

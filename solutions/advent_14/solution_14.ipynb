{
 "cells": [
  {
   "cell_type": "code",
   "execution_count": 3,
   "metadata": {},
   "outputs": [
    {
     "name": "stdout",
     "output_type": "stream",
     "text": [
      "11327140210986\n"
     ]
    }
   ],
   "source": []
  },
  {
   "cell_type": "code",
   "execution_count": 1,
   "metadata": {},
   "outputs": [],
   "source": [
    "import sys, re, itertools\n",
    "\n",
    "mask = None\n",
    "mem = {}\n",
    "\n",
    "\n",
    "inp = open('14.txt').read().splitlines()\n",
    "\n",
    "def solve(inp, times):\n",
    "    start = inp[0]\n",
    "    mp = dict()\n",
    "    for rule in inp[1:]:\n",
    "        a, b = rule.split('->')\n",
    "        a = a.strip()\n",
    "        b = b.strip()\n",
    "        mp[a] = b\n",
    "    \n",
    "    n = len(start)\n",
    "    pairs = Counter(start[i:i+2] for i in range(n - 1))\n",
    "    for _ in range(times):\n",
    "        cnt = Counter()\n",
    "        for pair in pairs:\n",
    "            v = pairs[pair]\n",
    "            cnt[pair[0] + mp[pair]] += v\n",
    "            cnt[mp[pair] + pair[1]] += v\n",
    "        pairs = cnt\n",
    "        \n",
    "    cnt = Counter()\n",
    "    for pair in pairs:\n",
    "        v = pairs[pair]\n",
    "        cnt[pair[0]] += v\n",
    "        cnt[pair[1]] += v\n",
    "        \n",
    "    cnt[start[0]] += 1\n",
    "    cnt[start[-1]] += 1\n",
    "    hi = max(cnt.values())\n",
    "    lo = min(cnt.values())\n",
    "    return (hi - lo) // 2"
   ]
  },
  {
   "cell_type": "code",
   "execution_count": 2,
   "metadata": {},
   "outputs": [],
   "source": [
    "def part1(inp):\n",
    "    return solve(inp, 10)"
   ]
  },
  {
   "cell_type": "code",
   "execution_count": 3,
   "metadata": {},
   "outputs": [
    {
     "ename": "ValueError",
     "evalue": "not enough values to unpack (expected 2, got 1)",
     "output_type": "error",
     "traceback": [
      "\u001b[0;31m---------------------------------------------------------------------------\u001b[0m",
      "\u001b[0;31mValueError\u001b[0m                                Traceback (most recent call last)",
      "\u001b[0;32m<ipython-input-3-8e25f6029f4d>\u001b[0m in \u001b[0;36m<module>\u001b[0;34m\u001b[0m\n\u001b[0;32m----> 1\u001b[0;31m \u001b[0mpart1_ans\u001b[0m \u001b[0;34m=\u001b[0m \u001b[0mpart1\u001b[0m\u001b[0;34m(\u001b[0m\u001b[0minp\u001b[0m\u001b[0;34m)\u001b[0m\u001b[0;34m\u001b[0m\u001b[0;34m\u001b[0m\u001b[0m\n\u001b[0m\u001b[1;32m      2\u001b[0m \u001b[0mpart1_ans\u001b[0m\u001b[0;34m\u001b[0m\u001b[0;34m\u001b[0m\u001b[0m\n",
      "\u001b[0;32m<ipython-input-2-63ffd3fe9c51>\u001b[0m in \u001b[0;36mpart1\u001b[0;34m(inp)\u001b[0m\n\u001b[1;32m      1\u001b[0m \u001b[0;32mdef\u001b[0m \u001b[0mpart1\u001b[0m\u001b[0;34m(\u001b[0m\u001b[0minp\u001b[0m\u001b[0;34m)\u001b[0m\u001b[0;34m:\u001b[0m\u001b[0;34m\u001b[0m\u001b[0;34m\u001b[0m\u001b[0m\n\u001b[0;32m----> 2\u001b[0;31m     \u001b[0;32mreturn\u001b[0m \u001b[0msolve\u001b[0m\u001b[0;34m(\u001b[0m\u001b[0minp\u001b[0m\u001b[0;34m,\u001b[0m \u001b[0;36m10\u001b[0m\u001b[0;34m)\u001b[0m\u001b[0;34m\u001b[0m\u001b[0;34m\u001b[0m\u001b[0m\n\u001b[0m",
      "\u001b[0;32m<ipython-input-1-53620ced7a04>\u001b[0m in \u001b[0;36msolve\u001b[0;34m(inp, times)\u001b[0m\n\u001b[1;32m     11\u001b[0m     \u001b[0mmp\u001b[0m \u001b[0;34m=\u001b[0m \u001b[0mdict\u001b[0m\u001b[0;34m(\u001b[0m\u001b[0;34m)\u001b[0m\u001b[0;34m\u001b[0m\u001b[0;34m\u001b[0m\u001b[0m\n\u001b[1;32m     12\u001b[0m     \u001b[0;32mfor\u001b[0m \u001b[0mrule\u001b[0m \u001b[0;32min\u001b[0m \u001b[0minp\u001b[0m\u001b[0;34m[\u001b[0m\u001b[0;36m1\u001b[0m\u001b[0;34m:\u001b[0m\u001b[0;34m]\u001b[0m\u001b[0;34m:\u001b[0m\u001b[0;34m\u001b[0m\u001b[0;34m\u001b[0m\u001b[0m\n\u001b[0;32m---> 13\u001b[0;31m         \u001b[0ma\u001b[0m\u001b[0;34m,\u001b[0m \u001b[0mb\u001b[0m \u001b[0;34m=\u001b[0m \u001b[0mrule\u001b[0m\u001b[0;34m.\u001b[0m\u001b[0msplit\u001b[0m\u001b[0;34m(\u001b[0m\u001b[0;34m'->'\u001b[0m\u001b[0;34m)\u001b[0m\u001b[0;34m\u001b[0m\u001b[0;34m\u001b[0m\u001b[0m\n\u001b[0m\u001b[1;32m     14\u001b[0m         \u001b[0ma\u001b[0m \u001b[0;34m=\u001b[0m \u001b[0ma\u001b[0m\u001b[0;34m.\u001b[0m\u001b[0mstrip\u001b[0m\u001b[0;34m(\u001b[0m\u001b[0;34m)\u001b[0m\u001b[0;34m\u001b[0m\u001b[0;34m\u001b[0m\u001b[0m\n\u001b[1;32m     15\u001b[0m         \u001b[0mb\u001b[0m \u001b[0;34m=\u001b[0m \u001b[0mb\u001b[0m\u001b[0;34m.\u001b[0m\u001b[0mstrip\u001b[0m\u001b[0;34m(\u001b[0m\u001b[0;34m)\u001b[0m\u001b[0;34m\u001b[0m\u001b[0;34m\u001b[0m\u001b[0m\n",
      "\u001b[0;31mValueError\u001b[0m: not enough values to unpack (expected 2, got 1)"
     ]
    }
   ],
   "source": [
    "part1_ans = part1(inp)\n",
    "part1_ans"
   ]
  },
  {
   "cell_type": "code",
   "execution_count": 4,
   "metadata": {},
   "outputs": [
    {
     "name": "stdout",
     "output_type": "stream",
     "text": [
      "Part 1: 2223\n",
      "Part 2: 2566282754493\n"
     ]
    }
   ],
   "source": [
    "#!/usr/bin/env python3\n",
    "\"\"\" 2021/14: Extended Polymerization \"\"\"\n",
    "\n",
    "import sys\n",
    "import collections as cl\n",
    "\n",
    "\n",
    "polymer, rules = open('14.txt').read().strip().split(\"\\n\\n\")\n",
    "\n",
    "rules = {\n",
    "    tuple(rule.split()[0]): rule.split()[2]\n",
    "        for rule in rules.strip().split(\"\\n\")\n",
    "}\n",
    "\n",
    "pairs = cl.Counter(\n",
    "    polymer[i:i+2] for i in range(len(polymer) - 1)\n",
    ")\n",
    "for step in range(1, 40 + 1):\n",
    "    _pairs = cl.Counter()\n",
    "    for (l, r), n in pairs.items():\n",
    "        m = rules[l, r]\n",
    "        _pairs[l + m] += n\n",
    "        _pairs[m + r] += n\n",
    "\n",
    "    pairs = _pairs\n",
    "\n",
    "    if step == 10 or step == 40:\n",
    "        elements = cl.Counter()\n",
    "        for (l, r), n in pairs.items():\n",
    "            elements[l] += n\n",
    "        elements[polymer[-1]] += 1\n",
    "\n",
    "        print(\"Part {}:\".format({10: \"1\", 40: \"2\"}[step]),\n",
    "            max(elements.values()) - min(elements.values()))"
   ]
  },
  {
   "cell_type": "code",
   "execution_count": null,
   "metadata": {},
   "outputs": [],
   "source": []
  }
 ],
 "metadata": {
  "kernelspec": {
   "display_name": "Python 3",
   "language": "python",
   "name": "python3"
  },
  "language_info": {
   "codemirror_mode": {
    "name": "ipython",
    "version": 3
   },
   "file_extension": ".py",
   "mimetype": "text/x-python",
   "name": "python",
   "nbconvert_exporter": "python",
   "pygments_lexer": "ipython3",
   "version": "3.8.5"
  }
 },
 "nbformat": 4,
 "nbformat_minor": 4
}

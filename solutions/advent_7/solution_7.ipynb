{
 "cells": [
  {
   "cell_type": "code",
   "execution_count": 2,
   "metadata": {},
   "outputs": [
    {
     "name": "stdout",
     "output_type": "stream",
     "text": [
      "317\n",
      "331067\n"
     ]
    }
   ],
   "source": [
    "import re\n",
    "import math\n",
    "\n",
    "inputf = \"7.txt\"\n",
    "with open(inputf) as f:\n",
    "    pos = [int(x) for x in f.read().split(\",\")]\n",
    "\n",
    "a = min(pos)\n",
    "b = max(pos)\n",
    "best = a\n",
    "cost = math.inf\n",
    "for i in range(a, b + 1):\n",
    "    c = 0\n",
    "    for p in pos:\n",
    "        c = c + abs(p - i)\n",
    "    if c < cost:\n",
    "        cost = c\n",
    "        best = i\n",
    "print(best)\n",
    "print(cost)"
   ]
  },
  {
   "cell_type": "code",
   "execution_count": 3,
   "metadata": {},
   "outputs": [
    {
     "name": "stdout",
     "output_type": "stream",
     "text": [
      "458\n",
      "92881128.0\n"
     ]
    }
   ],
   "source": [
    "\n",
    "   \n",
    "import re\n",
    "import math\n",
    "\n",
    "inputf = \"7.txt\"\n",
    "with open(inputf) as f:\n",
    "    pos = [int(x) for x in f.read().split(\",\")]\n",
    "\n",
    "a = min(pos)\n",
    "b = max(pos)\n",
    "best = a\n",
    "cost = math.inf\n",
    "for i in range(a, b + 1):\n",
    "    c = 0\n",
    "    for p in pos:\n",
    "        d = abs(p - i)\n",
    "        if d > 0:\n",
    "            c = c + d * (d + 1)/2\n",
    "    if c < cost:\n",
    "        cost = c\n",
    "        best = i\n",
    "print(best)\n",
    "print(cost)"
   ]
  },
  {
   "cell_type": "code",
   "execution_count": null,
   "metadata": {},
   "outputs": [],
   "source": []
  }
 ],
 "metadata": {
  "kernelspec": {
   "display_name": "Python 3",
   "language": "python",
   "name": "python3"
  },
  "language_info": {
   "codemirror_mode": {
    "name": "ipython",
    "version": 3
   },
   "file_extension": ".py",
   "mimetype": "text/x-python",
   "name": "python",
   "nbconvert_exporter": "python",
   "pygments_lexer": "ipython3",
   "version": "3.8.5"
  }
 },
 "nbformat": 4,
 "nbformat_minor": 4
}

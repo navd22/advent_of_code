{
 "cells": [
  {
   "cell_type": "code",
   "execution_count": 4,
   "metadata": {},
   "outputs": [
    {
     "name": "stdout",
     "output_type": "stream",
     "text": [
      "1288\n",
      "1311\n"
     ]
    }
   ],
   "source": [
    "INPUTPATH = \"1.txt\"\n",
    "#INPUTPATH = \"input-test.txt\"\n",
    "with open(INPUTPATH) as ifile:\n",
    "    raw = ifile.read()\n",
    "data = tuple(map(int, raw.strip().split()))\n",
    "\n",
    "count = 0\n",
    "for i in range(len(data) - 1):\n",
    "    if data[i] < data[i+1]:\n",
    "        count += 1\n",
    "print(count)\n",
    "\n",
    "count2 = 0\n",
    "for i in range(len(data) - 3):\n",
    "    left, right = data[i:i+3], data[i+1:i+4]\n",
    "    if sum(left) < sum(right):\n",
    "        count2 += 1\n",
    "print(count2)"
   ]
  },
  {
   "cell_type": "code",
   "execution_count": null,
   "metadata": {},
   "outputs": [],
   "source": []
  }
 ],
 "metadata": {
  "kernelspec": {
   "display_name": "Python 3",
   "language": "python",
   "name": "python3"
  },
  "language_info": {
   "codemirror_mode": {
    "name": "ipython",
    "version": 3
   },
   "file_extension": ".py",
   "mimetype": "text/x-python",
   "name": "python",
   "nbconvert_exporter": "python",
   "pygments_lexer": "ipython3",
   "version": "3.8.5"
  }
 },
 "nbformat": 4,
 "nbformat_minor": 4
}

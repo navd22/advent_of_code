{
 "cells": [
  {
   "cell_type": "code",
   "execution_count": 2,
   "metadata": {},
   "outputs": [
    {
     "name": "stdout",
     "output_type": "stream",
     "text": [
      "352195\n"
     ]
    }
   ],
   "source": [
    "import re\n",
    "\n",
    "inputf = \"6.txt\"\n",
    "with open(inputf) as f:\n",
    "    times = [int(x) for x in re.findall(\"\\d+\", f.readline())];\n",
    "record = [0] * 9\n",
    "\n",
    "for t in times:\n",
    "    record[t] += 1\n",
    "for i in range(80):\n",
    "    next = [0] * 9\n",
    "    for j in range(1, 9):\n",
    "        next[j - 1] = record[j]\n",
    "    next[6] += record[0]\n",
    "    next[8] += record[0]\n",
    "    record = next\n",
    "sum = 0\n",
    "for i in record:\n",
    "    sum = sum + i\n",
    "print(sum)"
   ]
  },
  {
   "cell_type": "code",
   "execution_count": 3,
   "metadata": {},
   "outputs": [
    {
     "name": "stdout",
     "output_type": "stream",
     "text": [
      "1600306001288\n"
     ]
    }
   ],
   "source": [
    "with open(inputf) as f:\n",
    "    times = [int(x) for x in re.findall(\"\\d+\", f.readline())];\n",
    "record = [0] * 9\n",
    "\n",
    "for t in times:\n",
    "    record[t] += 1\n",
    "for i in range(256):\n",
    "    next = [0] * 9\n",
    "    for j in range(1, 9):\n",
    "        next[j - 1] = record[j]\n",
    "    next[6] += record[0]\n",
    "    next[8] += record[0]\n",
    "    record = next\n",
    "sum = 0\n",
    "for i in record:\n",
    "    sum = sum + i\n",
    "print(sum)"
   ]
  },
  {
   "cell_type": "code",
   "execution_count": 7,
   "metadata": {},
   "outputs": [],
   "source": [
    "def split_group(grp):\n",
    "    return grp.splitlines()\n",
    "\n",
    "def calc_group(grp):\n",
    "    return sum(all([letter in person for person in split_group(grp)]) \n",
    "               for letter in letters)\n",
    "\n",
    "def aoc_6_2(inp=inp):\n",
    "    return sum(calc_group(grp) for grp in split_inp(inp))"
   ]
  },
  {
   "cell_type": "code",
   "execution_count": 8,
   "metadata": {},
   "outputs": [
    {
     "data": {
      "text/plain": [
       "3382"
      ]
     },
     "execution_count": 8,
     "metadata": {},
     "output_type": "execute_result"
    }
   ],
   "source": [
    "aoc_6_2()"
   ]
  }
 ],
 "metadata": {
  "kernelspec": {
   "display_name": "Python 3",
   "language": "python",
   "name": "python3"
  },
  "language_info": {
   "codemirror_mode": {
    "name": "ipython",
    "version": 3
   },
   "file_extension": ".py",
   "mimetype": "text/x-python",
   "name": "python",
   "nbconvert_exporter": "python",
   "pygments_lexer": "ipython3",
   "version": "3.8.5"
  }
 },
 "nbformat": 4,
 "nbformat_minor": 4
}

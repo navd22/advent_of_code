{
 "cells": [
  {
   "cell_type": "code",
   "execution_count": 2,
   "metadata": {},
   "outputs": [
    {
     "name": "stdout",
     "output_type": "stream",
     "text": [
      "653798\n"
     ]
    }
   ],
   "source": [
    "from collections import defaultdict\n",
    "from pprint import pprint\n",
    "\n",
    "with open(\"22.txt\") as f:\n",
    "    content = f.readlines()\n",
    "    #content = [int(x) for x in f.readlines()]\n",
    "\n",
    "reactor = set()\n",
    "\n",
    "settings = []\n",
    "for line in content:\n",
    "    # on x=10..12,y=10..12,z=10..12\n",
    "    state, line = line.split(' ')\n",
    "    x, y, z = line.strip().split(',')\n",
    "    x1, x2 = x[2:].split('..')\n",
    "    y1, y2 = y[2:].split('..')\n",
    "    z1, z2 = z[2:].split('..')\n",
    "    if state == 'on':\n",
    "        state = 1\n",
    "    else:\n",
    "        state = 0\n",
    "\n",
    "    x1 = max(int(x1), -50)\n",
    "    x2 = min(int(x2), 50)\n",
    "    y1 = max(int(y1), -50)\n",
    "    y2 = min(int(y2), 50)\n",
    "    z1 = max(int(z1), -50)\n",
    "    z2 = min(int(z2), 50)\n",
    "\n",
    "    for x in range(int(x1), int(x2)+1):\n",
    "        for y in range(int(y1), int(y2)+1):\n",
    "            for z in range(int(z1), int(z2)+1):\n",
    "                if state == 1:\n",
    "                    reactor.add((x, y, z))\n",
    "                else:\n",
    "                    reactor.discard((x, y, z))\n",
    "\n",
    "print(len(reactor))"
   ]
  },
  {
   "cell_type": "code",
   "execution_count": 3,
   "metadata": {},
   "outputs": [
    {
     "name": "stdout",
     "output_type": "stream",
     "text": [
      "1257350313518866\n"
     ]
    }
   ],
   "source": [
    "from collections import defaultdict\n",
    "from pprint import pprint\n",
    "\n",
    "with open(\"22.txt\") as f:\n",
    "    content = f.readlines()\n",
    "    # content = [int(x) for x in f.readlines()]\n",
    "\n",
    "reactor = set()\n",
    "\n",
    "steps = []\n",
    "for line in content:\n",
    "    # on x=10..12,y=10..12,z=10..12\n",
    "    state, line = line.split(' ')\n",
    "    state = 1 if state == \"on\" else 0\n",
    "\n",
    "    x, y, z = line.strip().split(',')\n",
    "    x1, x2 = [int(a) for a in x[2:].split('..')]\n",
    "    y1, y2 = [int(a) for a in y[2:].split('..')]\n",
    "    z1, z2 = [int(a) for a in z[2:].split('..')]\n",
    "    xr = range(x1, x2+1)\n",
    "    yr = range(y1, y2+1)\n",
    "    zr = range(z1, z2+1)\n",
    "    steps.append((state, xr, yr, zr))\n",
    "\n",
    "\n",
    "def get_subrange(crange, low, high):\n",
    "    c0 = crange[0]\n",
    "    c1 = crange[-1]\n",
    "    if c1 < low:\n",
    "        return []\n",
    "    elif c0 > high:\n",
    "        return []\n",
    "    c0 = max(c0, low)\n",
    "    c1 = max(c1, low)\n",
    "    c0 = min(c0, high)\n",
    "    c1 = min(c1, high)\n",
    "    return range(c0, c1+1)\n",
    "\n",
    "\n",
    "def count_in_cube(step, rest):\n",
    "    _, xr, yr, zr = step\n",
    "    total = len(xr) * len(yr) * len(zr)\n",
    "\n",
    "    overlap = []\n",
    "    ref_val = 0\n",
    "\n",
    "    for step in rest:\n",
    "        state, xr2, yr2, zr2 = step\n",
    "\n",
    "        cxr = get_subrange(xr2, xr[0], xr[-1])\n",
    "        cyr = get_subrange(yr2, yr[0], yr[-1])\n",
    "        czr = get_subrange(zr2, zr[0], zr[-1])\n",
    "\n",
    "        if len(cxr) == 0 or len(cyr) == 0 or len(czr) == 0:\n",
    "            continue\n",
    "\n",
    "        overlap.append((state, cxr, cyr, czr))\n",
    "        ref_val += len(cxr) * len(cyr) * len(czr)\n",
    "\n",
    "    for i, ovr in enumerate(overlap):\n",
    "        total -= count_in_cube(ovr, overlap[i+1:])\n",
    "\n",
    "    return total\n",
    "\n",
    "\n",
    "on = 0\n",
    "\n",
    "for i, step in enumerate(steps):\n",
    "    state, xr, yr, zr = step\n",
    "    if state == 0:\n",
    "        continue\n",
    "    on += count_in_cube(step, steps[i+1:])\n",
    "\n",
    "print(on)"
   ]
  }
 ],
 "metadata": {
  "kernelspec": {
   "display_name": "Python 3",
   "language": "python",
   "name": "python3"
  },
  "language_info": {
   "codemirror_mode": {
    "name": "ipython",
    "version": 3
   },
   "file_extension": ".py",
   "mimetype": "text/x-python",
   "name": "python",
   "nbconvert_exporter": "python",
   "pygments_lexer": "ipython3",
   "version": "3.8.5"
  }
 },
 "nbformat": 4,
 "nbformat_minor": 4
}

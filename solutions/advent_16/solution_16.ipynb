{
 "cells": [
  {
   "cell_type": "code",
   "execution_count": 1,
   "metadata": {},
   "outputs": [
    {
     "name": "stdout",
     "output_type": "stream",
     "text": [
      "Part A Solution: 936\n",
      "Part B Solution: 6802496672062\n"
     ]
    }
   ],
   "source": [
    "\n",
    "inp = open('16.txt').read()\n",
    "\n",
    "binary = ''\n",
    "for x in inp:\n",
    "    a = int(x,16)\n",
    "    b = bin(a)[2:]\n",
    "    while len(b)<4:\n",
    "        b = '0'+b\n",
    "    binary+=b\n",
    "        \n",
    "A = 0\n",
    "\n",
    "def parse_packet(s):\n",
    "    global A\n",
    "    \n",
    "    vers = s[:3]\n",
    "    \n",
    "    A+=int(vers,2)\n",
    "    \n",
    "    type_id = s[3:6]\n",
    "    \n",
    "    if type_id == '100': # literal\n",
    "        i = 6\n",
    "        bit_grps = []\n",
    "        while s[i]!='0':\n",
    "            bit_grps.append(s[i:i+5])\n",
    "            i+=5\n",
    "            \n",
    "        bit_grps.append(s[i:i+5])\n",
    "        \n",
    "        unused = s[i+5:]\n",
    "        \n",
    "        lit = ''\n",
    "        for x in bit_grps:\n",
    "            lit+=x[1:]\n",
    "            \n",
    "        return(int(lit,2), unused)\n",
    "        \n",
    "        \n",
    "    else:   # operator on subpackets\n",
    "        length_type_id = s[6]\n",
    "        \n",
    "        val_array = []   # keep track of values output by subpackets\n",
    "        \n",
    "        if length_type_id=='0': # bit length of packets given\n",
    "            \n",
    "            bit_length = int(s[7:7+15],2)\n",
    "            \n",
    "            unused = s[22:22+bit_length]\n",
    "            \n",
    "            while unused:\n",
    "                val, unused = parse_packet(unused)\n",
    "                val_array.append(val)\n",
    "            \n",
    "            remainder = s[22+bit_length:]\n",
    " \n",
    "        else:  # number of direct subpackets given\n",
    "        \n",
    "            packet_number = int(s[7:7+11],2)\n",
    "            \n",
    "            unused = s[18:]\n",
    "            \n",
    "            while packet_number:\n",
    "                val, unused = parse_packet(unused)\n",
    "                val_array.append(val)\n",
    "                packet_number-=1\n",
    "                    \n",
    "            remainder = unused\n",
    "\n",
    "        # operations\n",
    "        if type_id == '000':   # sum\n",
    "            ret = 0\n",
    "            for x in val_array:\n",
    "                ret+=x\n",
    "        \n",
    "        elif type_id == '001': # product\n",
    "            ret = 1\n",
    "            for x in val_array:\n",
    "                ret*=x\n",
    "                \n",
    "        elif type_id =='010': # min\n",
    "            ret= min(val_array)\n",
    "            \n",
    "        elif type_id =='011': # max\n",
    "            ret = max(val_array)\n",
    "            \n",
    "        elif type_id =='101': # greater than\n",
    "            ret = int((val_array[0]>val_array[1]))\n",
    "            \n",
    "        elif type_id =='110': # less than\n",
    "            ret = int((val_array[0]<val_array[1]))  \n",
    "            \n",
    "        elif type_id =='111': # equals\n",
    "            ret = int(val_array[0]==val_array[1])\n",
    "            \n",
    "            \n",
    "        return(ret,remainder)\n",
    "    \n",
    "B = parse_packet(binary)[0]\n",
    "\n",
    "print('Part A Solution:', A)\n",
    "print('Part B Solution:', B)"
   ]
  },
  {
   "cell_type": "code",
   "execution_count": 5,
   "metadata": {},
   "outputs": [
    {
     "name": "stdout",
     "output_type": "stream",
     "text": [
      "8546398\n"
     ]
    }
   ],
   "source": []
  },
  {
   "cell_type": "code",
   "execution_count": null,
   "metadata": {},
   "outputs": [],
   "source": []
  },
  {
   "cell_type": "code",
   "execution_count": null,
   "metadata": {},
   "outputs": [],
   "source": []
  }
 ],
 "metadata": {
  "kernelspec": {
   "display_name": "Python 3",
   "language": "python",
   "name": "python3"
  },
  "language_info": {
   "codemirror_mode": {
    "name": "ipython",
    "version": 3
   },
   "file_extension": ".py",
   "mimetype": "text/x-python",
   "name": "python",
   "nbconvert_exporter": "python",
   "pygments_lexer": "ipython3",
   "version": "3.8.5"
  }
 },
 "nbformat": 4,
 "nbformat_minor": 4
}

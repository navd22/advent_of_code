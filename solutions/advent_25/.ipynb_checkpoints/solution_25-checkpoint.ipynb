{
 "cells": [
  {
   "cell_type": "code",
   "execution_count": 16,
   "metadata": {},
   "outputs": [
    {
     "name": "stdout",
     "output_type": "stream",
     "text": [
      "528\n"
     ]
    }
   ],
   "source": [
    "import sys\n",
    "\n",
    "\n",
    "def print_sea_cucumbers(sea_cucumbers, width, height):\n",
    "    for y in range(height):\n",
    "        print(\"\".join(sea_cucumbers.get((x, y), \".\") for x in range(width)))\n",
    "\n",
    "\n",
    "def main():\n",
    "    lines = open(\"25.txt\").read().splitlines()\n",
    "\n",
    "    width = len(lines[0])\n",
    "    height = len(lines)\n",
    "\n",
    "    sea_cucumbers = {\n",
    "        (x, y): c\n",
    "        for y, line in enumerate(lines)\n",
    "        for x, c in enumerate(line.strip())\n",
    "        if c in \">v\"\n",
    "    }\n",
    "\n",
    "    for step in range(0, sys.maxsize):\n",
    "        # print()\n",
    "        # print(step)\n",
    "        # print()\n",
    "        # print_sea_cucumbers(sea_cucumbers, width, height)\n",
    "        # print()\n",
    "\n",
    "        old_sea_cucumbers = sea_cucumbers\n",
    "\n",
    "        for dx, dy, c in [(1, 0, \">\"), (0, 1, \"v\")]:\n",
    "            new_sea_cucumbers = {}\n",
    "\n",
    "            for (x, y), d in sea_cucumbers.items():\n",
    "                if d != c:\n",
    "                    new_sea_cucumbers[x, y] = d\n",
    "                    continue\n",
    "\n",
    "                new_x = (x + dx) % width\n",
    "                new_y = (y + dy) % height\n",
    "\n",
    "                if (new_x, new_y) in sea_cucumbers:\n",
    "                    new_sea_cucumbers[x, y] = d\n",
    "                else:\n",
    "                    new_sea_cucumbers[new_x, new_y] = d\n",
    "\n",
    "            sea_cucumbers = new_sea_cucumbers\n",
    "\n",
    "        if sea_cucumbers == old_sea_cucumbers:\n",
    "            print(step + 1)\n",
    "            break\n",
    "\n",
    "\n",
    "if __name__ == \"__main__\":\n",
    "    main()"
   ]
  }
 ],
 "metadata": {
  "kernelspec": {
   "display_name": "Python 3",
   "language": "python",
   "name": "python3"
  },
  "language_info": {
   "codemirror_mode": {
    "name": "ipython",
    "version": 3
   },
   "file_extension": ".py",
   "mimetype": "text/x-python",
   "name": "python",
   "nbconvert_exporter": "python",
   "pygments_lexer": "ipython3",
   "version": "3.8.5"
  }
 },
 "nbformat": 4,
 "nbformat_minor": 4
}

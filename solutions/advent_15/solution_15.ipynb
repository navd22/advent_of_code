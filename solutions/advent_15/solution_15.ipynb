{
 "cells": [
  {
   "cell_type": "code",
   "execution_count": 1,
   "metadata": {},
   "outputs": [
    {
     "name": "stdout",
     "output_type": "stream",
     "text": [
      "Part 1: 415\n",
      "Part 2: 2864\n"
     ]
    }
   ],
   "source": [
    "from heapq import heappop, heappush\n",
    "\n",
    "lines = open(\"15.txt\").readlines()\n",
    "graph = [list(map(int, line.strip())) for line in lines]\n",
    "\n",
    "def wrap(n):\n",
    "    while n > 9:\n",
    "        n -= 9\n",
    "    return n\n",
    "\n",
    "def neighbors(x, y, width, height):\n",
    "    if x > 0:\n",
    "        yield x - 1, y\n",
    "    if x < height - 1:\n",
    "        yield x + 1, y\n",
    "    if y > 0:\n",
    "        yield x, y - 1\n",
    "    if y < width - 1:\n",
    "        yield x, y + 1\n",
    "\n",
    "\n",
    "def graph_search(graph):\n",
    "    height, width = len(graph), len(graph[0])\n",
    "    visited = set()\n",
    "    q = [(0, (0, 0))]\n",
    "\n",
    "    while q:\n",
    "        cost, (x, y) = heappop(q)\n",
    "\n",
    "        if (x, y) in visited: continue\n",
    "\n",
    "        if x == height - 1 and y == width - 1:\n",
    "            return cost\n",
    "\n",
    "        visited.add((x, y))\n",
    "\n",
    "        for nx, ny in neighbors(x, y, width, height):\n",
    "            if (nx, ny) not in visited:\n",
    "                heappush(q, (cost + graph[nx][ny], (nx, ny)))\n",
    "\n",
    "print(f\"Part 1: {graph_search(graph)}\")\n",
    "\n",
    "height, width = len(graph), len(graph[0])\n",
    "new_graph = []\n",
    "for x in range(height * 5):\n",
    "    new_row = [wrap(graph[x % height][y % width] + x // height + y // width) for y in range(width * 5)]\n",
    "    new_graph.append(new_row)\n",
    "\n",
    "print(f\"Part 2: {graph_search(new_graph)}\")"
   ]
  }
 ],
 "metadata": {
  "kernelspec": {
   "display_name": "Python 3",
   "language": "python",
   "name": "python3"
  },
  "language_info": {
   "codemirror_mode": {
    "name": "ipython",
    "version": 3
   },
   "file_extension": ".py",
   "mimetype": "text/x-python",
   "name": "python",
   "nbconvert_exporter": "python",
   "pygments_lexer": "ipython3",
   "version": "3.8.5"
  }
 },
 "nbformat": 4,
 "nbformat_minor": 4
}

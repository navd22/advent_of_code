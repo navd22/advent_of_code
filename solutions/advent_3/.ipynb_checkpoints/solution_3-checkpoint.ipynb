{
 "cells": [
  {
   "cell_type": "code",
   "execution_count": 1,
   "metadata": {},
   "outputs": [
    {
     "name": "stdout",
     "output_type": "stream",
     "text": [
      "Part 1: 254\n",
      "Part 2: 1666768320\n"
     ]
    }
   ],
   "source": [
    "with open('3.input') as f:\n",
    "    input = f.readlines()\n",
    "\n",
    "paths = [(1, 1), (1, 3), (1, 5), (1, 7), (2, 1)]\n",
    "total = 1\n",
    "for (down, right) in paths:\n",
    "    i = 0\n",
    "    j = 0\n",
    "    count = 0\n",
    "    while i < len(input):\n",
    "        line = input[i].strip()\n",
    "        if line[j % len(line)] == \"#\":\n",
    "            count += 1\n",
    "        i += down\n",
    "        j += right\n",
    "    total = total * count\n",
    "    if down == 1 and right == 3:\n",
    "        print(\"Part 1:\", count)\n",
    "\n",
    "print(\"Part 2:\", total)"
   ]
  }
 ],
 "metadata": {
  "kernelspec": {
   "display_name": "Python 3",
   "language": "python",
   "name": "python3"
  },
  "language_info": {
   "codemirror_mode": {
    "name": "ipython",
    "version": 3
   },
   "file_extension": ".py",
   "mimetype": "text/x-python",
   "name": "python",
   "nbconvert_exporter": "python",
   "pygments_lexer": "ipython3",
   "version": "3.8.5"
  }
 },
 "nbformat": 4,
 "nbformat_minor": 4
}

{
 "cells": [
  {
   "cell_type": "code",
   "execution_count": 2,
   "metadata": {},
   "outputs": [
    {
     "name": "stdout",
     "output_type": "stream",
     "text": [
      "1071734\n"
     ]
    }
   ],
   "source": [
    "with open(\"3.input\", \"r\") as f:\n",
    "    data = f.read()\n",
    "    f.close()\n",
    "data = data.split(\"\\n\")\n",
    "count = [0]*len(data[0])\n",
    "for each in data:\n",
    "    for x in range(len(each)):\n",
    "        count[x] += int(each[x])\n",
    "\n",
    "p = ''\n",
    "q = ''\n",
    "for x in count:\n",
    "    if 2 * x > len(data):\n",
    "        p += '1'\n",
    "        q += '0'\n",
    "    else:\n",
    "        p += '0'\n",
    "        q += '1'\n",
    "\n",
    "print(int(p,2)*int(q,2))"
   ]
  },
  {
   "cell_type": "code",
   "execution_count": 3,
   "metadata": {},
   "outputs": [
    {
     "name": "stdout",
     "output_type": "stream",
     "text": [
      "6124992\n"
     ]
    }
   ],
   "source": [
    "with open(\"3.input\", \"r\") as f:\n",
    "    data = f.read()\n",
    "    f.close()\n",
    "data = data.split(\"\\n\")\n",
    "data2 = list(data)\n",
    "for i in range(len(data[0])):\n",
    "    p = [[], []]\n",
    "    for k in data:\n",
    "        p[int(k[i])] += [k]\n",
    "    if len(p[0]) > len(p[1]):\n",
    "        data = list(p[0])\n",
    "    else:\n",
    "        data = list(p[1])\n",
    "ans1 = data[0]\n",
    "data = list(data2)\n",
    "for i in range(len(data[0])):\n",
    "    if len(data) == 1: break\n",
    "    p = [[], []]\n",
    "    for k in data:\n",
    "        p[int(k[i])] += [k]\n",
    "    if len(p[0]) <= len(p[1]):\n",
    "        data = list(p[0])\n",
    "    else:\n",
    "        data = list(p[1])\n",
    "ans2 = data[0]\n",
    "print(int(ans1,2)*int(ans2,2))"
   ]
  },
  {
   "cell_type": "code",
   "execution_count": null,
   "metadata": {},
   "outputs": [],
   "source": []
  }
 ],
 "metadata": {
  "kernelspec": {
   "display_name": "Python 3",
   "language": "python",
   "name": "python3"
  },
  "language_info": {
   "codemirror_mode": {
    "name": "ipython",
    "version": 3
   },
   "file_extension": ".py",
   "mimetype": "text/x-python",
   "name": "python",
   "nbconvert_exporter": "python",
   "pygments_lexer": "ipython3",
   "version": "3.8.5"
  }
 },
 "nbformat": 4,
 "nbformat_minor": 4
}

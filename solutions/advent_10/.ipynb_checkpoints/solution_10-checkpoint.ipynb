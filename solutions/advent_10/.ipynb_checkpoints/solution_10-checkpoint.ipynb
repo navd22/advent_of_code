{
 "cells": [
  {
   "cell_type": "code",
   "execution_count": 1,
   "metadata": {},
   "outputs": [
    {
     "name": "stdout",
     "output_type": "stream",
     "text": [
      "278475\n",
      "3015539998\n"
     ]
    }
   ],
   "source": [
    "from collections import deque\n",
    "from statistics import median\n",
    "\n",
    "with open('10.txt') as f:\n",
    "    lines = f.read().splitlines()\n",
    "\n",
    "pairs = {\n",
    "    '(': ')',\n",
    "    '[': ']',\n",
    "    '{': '}',\n",
    "    '<': '>',\n",
    "}\n",
    "\n",
    "\n",
    "# Part 1\n",
    "\n",
    "points = {\n",
    "    ')': 3,\n",
    "    ']': 57,\n",
    "    '}': 1197,\n",
    "    '>': 25137\n",
    "}\n",
    "\n",
    "total = 0\n",
    "for line in lines:\n",
    "    s = deque()\n",
    "    for c in line:\n",
    "        if c in pairs:\n",
    "            s.append(c)\n",
    "        else:\n",
    "            if len(s) == 0 or pairs[s[-1]] != c:\n",
    "                total += points[c]\n",
    "                break\n",
    "            s.pop()\n",
    "\n",
    "print(total)\n",
    "\n",
    "\n",
    "# Part 2\n",
    "\n",
    "points = {\n",
    "    '(': 1,\n",
    "    '[': 2,\n",
    "    '{': 3,\n",
    "    '<': 4,\n",
    "}\n",
    "scores = []\n",
    "for line in lines:\n",
    "    s = deque()\n",
    "    for c in line:\n",
    "        if c in pairs:\n",
    "            s.append(c)\n",
    "        else:\n",
    "            if len(s) == 0 or pairs[s[-1]] != c:\n",
    "                break\n",
    "            s.pop()\n",
    "    else:\n",
    "        score = 0\n",
    "        while len(s):\n",
    "            curr = s.pop()\n",
    "            score *= 5\n",
    "            score += points[curr]\n",
    "        scores.append(score)\n",
    "\n",
    "print(median(scores))"
   ]
  },
  {
   "cell_type": "code",
   "execution_count": null,
   "metadata": {},
   "outputs": [],
   "source": []
  }
 ],
 "metadata": {
  "kernelspec": {
   "display_name": "Python 3",
   "language": "python",
   "name": "python3"
  },
  "language_info": {
   "codemirror_mode": {
    "name": "ipython",
    "version": 3
   },
   "file_extension": ".py",
   "mimetype": "text/x-python",
   "name": "python",
   "nbconvert_exporter": "python",
   "pygments_lexer": "ipython3",
   "version": "3.8.5"
  }
 },
 "nbformat": 4,
 "nbformat_minor": 4
}

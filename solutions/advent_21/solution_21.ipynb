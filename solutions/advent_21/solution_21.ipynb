{
 "cells": [
  {
   "cell_type": "code",
   "execution_count": 1,
   "metadata": {},
   "outputs": [
    {
     "name": "stdout",
     "output_type": "stream",
     "text": [
      "these games are so stupid lol: 908091\n"
     ]
    }
   ],
   "source": [
    "WIN = 1000\n",
    "ROLL_AMT = 3\n",
    "MAX_POS = 10\n",
    "\n",
    "\n",
    "class Die:\n",
    "    def __init__(self, max_roll: int):\n",
    "        assert 1 <= max_roll\n",
    "        self.max = max_roll\n",
    "        self.val = 1\n",
    "\n",
    "    def roll(self) -> int:\n",
    "        rolled = self.val\n",
    "        self.val += 1\n",
    "        if self.val > self.max:\n",
    "            self.val = 1\n",
    "        return rolled\n",
    "\n",
    "\n",
    "p1_pos = 10\n",
    "p2_pos = 4\n",
    "p1_score = 0\n",
    "p2_score = 0\n",
    "turn = True  # true for p1, false for p2\n",
    "die = Die(100)\n",
    "roll_num = 0\n",
    "result = -1\n",
    "while True:\n",
    "    result = sum(die.roll() for _ in range(ROLL_AMT))\n",
    "    roll_num += ROLL_AMT\n",
    "    if turn:\n",
    "        p1_pos += result\n",
    "        p1_pos = MAX_POS if p1_pos % MAX_POS == 0 else p1_pos % MAX_POS\n",
    "        p1_score += p1_pos\n",
    "        if p1_score >= WIN:\n",
    "            result = roll_num * p2_score\n",
    "            break\n",
    "    else:\n",
    "        p2_pos += result\n",
    "        p2_pos = MAX_POS if p2_pos % MAX_POS == 0 else p2_pos % MAX_POS\n",
    "        p2_score += p2_pos\n",
    "        if p2_score >= WIN:\n",
    "            result = roll_num * p1_score\n",
    "            break\n",
    "    turn = not turn\n",
    "\n",
    "print(f\"these games are so stupid lol: {result}\")"
   ]
  },
  {
   "cell_type": "code",
   "execution_count": 3,
   "metadata": {},
   "outputs": [
    {
     "name": "stdout",
     "output_type": "stream",
     "text": [
      "does god even have enough storage for all these universes: 190897246590017\n"
     ]
    }
   ],
   "source": [
    "from collections import defaultdict\n",
    "from itertools import product\n",
    "\n",
    "WIN = 21\n",
    "\n",
    "\n",
    "# turn is true if it's player 1, false if it's player 2\n",
    "def neighbors(p1p: int, p2p: int, p1s: int, p2s: int, turn: bool) -> [(int, int, int, int)]:\n",
    "    sum_amt = 3\n",
    "    max_roll = 3\n",
    "    all_sums = [sum(rolls) for rolls in product(\n",
    "        [r for r in range(1, max_roll + 1)], repeat=sum_amt)\n",
    "    ]\n",
    "\n",
    "    max_pos = 10\n",
    "    poss = []\n",
    "    for s in all_sums:\n",
    "        # np = next position, ns = next score\n",
    "        if turn:\n",
    "            np = p1p + s\n",
    "            np = max_pos if np % max_pos == 0 else np % max_pos\n",
    "            ns = p1s + np\n",
    "            poss.append((np, p2p, ns, p2s))\n",
    "        else:\n",
    "            np = p2p + s\n",
    "            np = max_pos if np % max_pos == 0 else np % max_pos\n",
    "            ns = p2s + np\n",
    "            poss.append((p1p, np, p1s, ns))\n",
    "    return poss\n",
    "\n",
    "\n",
    "states = defaultdict(int)\n",
    "# player 1 & 2's position followed by their score\n",
    "states[(10, 4, 0, 0)] = 1\n",
    "p1_win = 0\n",
    "p2_win = 0\n",
    "curr_turn = True\n",
    "while states:\n",
    "    next_states = defaultdict(int)\n",
    "    for curr, amt in states.items():\n",
    "        for n in neighbors(*curr, curr_turn):\n",
    "            if n[2] >= WIN:\n",
    "                p1_win += amt\n",
    "            elif n[3] >= WIN:\n",
    "                p2_win += amt\n",
    "            else:\n",
    "                next_states[n] += amt\n",
    "    states = next_states\n",
    "    curr_turn = not curr_turn\n",
    "\n",
    "print(f\"does god even have enough storage for all these universes: {max(p1_win, p2_win)}\")"
   ]
  },
  {
   "cell_type": "code",
   "execution_count": null,
   "metadata": {},
   "outputs": [],
   "source": []
  }
 ],
 "metadata": {
  "kernelspec": {
   "display_name": "Python 3",
   "language": "python",
   "name": "python3"
  },
  "language_info": {
   "codemirror_mode": {
    "name": "ipython",
    "version": 3
   },
   "file_extension": ".py",
   "mimetype": "text/x-python",
   "name": "python",
   "nbconvert_exporter": "python",
   "pygments_lexer": "ipython3",
   "version": "3.8.5"
  }
 },
 "nbformat": 4,
 "nbformat_minor": 4
}

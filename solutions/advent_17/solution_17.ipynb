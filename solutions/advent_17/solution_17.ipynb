{
 "cells": [
  {
   "cell_type": "code",
   "execution_count": 3,
   "metadata": {},
   "outputs": [
    {
     "name": "stdout",
     "output_type": "stream",
     "text": [
      "6555\n"
     ]
    }
   ],
   "source": [
    "x1, x2 = 207, 263\n",
    "y1, y2 = -115, -63\n",
    "ans = 0\n",
    "for x in range(500):\n",
    "    for y in range(500):\n",
    "        xv, yv = x, y\n",
    "        curX = curY = 0\n",
    "        pos = False\n",
    "        maxY = 0\n",
    "        for times in range(500):\n",
    "            curX += xv\n",
    "            curY += yv\n",
    "            maxY = max(maxY, curY)\n",
    "            if xv > 0: xv -= 1\n",
    "            if xv < 0: xv += 1\n",
    "            yv -= 1\n",
    "            if y1 <= curY <= y2 and x1 <= curX <= x2:\n",
    "                pos = True\n",
    "                break\n",
    "        if pos:\n",
    "            ans = max(ans, maxY)\n",
    "print(ans)"
   ]
  },
  {
   "cell_type": "code",
   "execution_count": 5,
   "metadata": {},
   "outputs": [
    {
     "name": "stdout",
     "output_type": "stream",
     "text": [
      "4928\n"
     ]
    }
   ],
   "source": [
    "\n",
    "x1, x2 = 207, 263\n",
    "y1, y2 = -115, -63\n",
    "ans = 0\n",
    "for x in range(-500, 500):\n",
    "    for y in range(-500, 500):\n",
    "        xv, yv = x, y\n",
    "        curX = curY = 0\n",
    "        pos = False\n",
    "        maxY = 0\n",
    "        for times in range(200):\n",
    "            curX += xv\n",
    "            curY += yv\n",
    "            maxY = max(maxY, curY)\n",
    "            if xv > 0: xv -= 1\n",
    "            if xv < 0: xv += 1\n",
    "            yv -= 1\n",
    "            if y1 <= curY <= y2 and x1 <= curX <= x2:\n",
    "                pos = True\n",
    "                break\n",
    "        if pos:\n",
    "            ans += 1\n",
    "print(ans)"
   ]
  },
  {
   "cell_type": "code",
   "execution_count": 8,
   "metadata": {},
   "outputs": [
    {
     "name": "stdout",
     "output_type": "stream",
     "text": [
      "Part 1 17.txt: max_y = 4950\n",
      "Part 2 17.txt: len(uniq) = 4973\n"
     ]
    }
   ],
   "source": [
    "import pprint as pp\n",
    "input = open('17.txt').read()\n",
    "def parse(input):\n",
    "    lines = [l.strip() for l in open(input)]\n",
    "    splits = lines[0].split()\n",
    "    x_s = splits[2][2:-1].split('.')\n",
    "    x_min = int(x_s[0])\n",
    "    x_max = int(x_s[-1])\n",
    "\n",
    "    y_s = splits[3][2:].split('.')\n",
    "    y_min = int(y_s[0])\n",
    "    y_max = int(y_s[-1])\n",
    "\n",
    "    return x_min, x_max, y_min, y_max\n",
    "\n",
    "\n",
    "def shoot(x_vel, y_vel, grid, y_min, debug=False):\n",
    "    x = 0\n",
    "    y = 0\n",
    "    max_y = 0\n",
    "\n",
    "    while y >= y_min:\n",
    "        x += x_vel\n",
    "        y += y_vel\n",
    "\n",
    "        if y > max_y:\n",
    "            max_y = y\n",
    "\n",
    "        if (x,y) in grid:\n",
    "            if debug: print(f'Passed zone at {(x,y) = }, {max_y = }')\n",
    "            return True, max_y\n",
    "\n",
    "        if x_vel > 0:\n",
    "            x_vel -= 1\n",
    "        if x_vel < 0:\n",
    "            x_vel += 1\n",
    "        y_vel -= 1\n",
    "\n",
    "    if debug: print(f'Failed to pass zone, {max_y = }')\n",
    "    return False, max_y\n",
    "\n",
    "\n",
    "def part1(input, debug=False):\n",
    "    x_min, x_max, y_min, y_max = parse(input)\n",
    "    if debug: print(x_min, x_max, y_min, y_max)\n",
    "\n",
    "    grid = {}\n",
    "    for x in range(x_min, x_max+1):\n",
    "        for y in range(y_min, y_max+1):\n",
    "            grid[(x,y)] = True\n",
    "\n",
    "    max_y = 0\n",
    "    for xv in range(100):\n",
    "        for yv in range(100):\n",
    "            passing, max_y_n = shoot(xv, yv, grid, y_min)\n",
    "            if passing:\n",
    "                if max_y_n > max_y:\n",
    "                    max_y = max_y_n\n",
    "                    if debug: print(f'{xv = } {yv = } {max_y = }')\n",
    "    \n",
    "    print(f'Part 1 {input}: {max_y = }')\n",
    "\n",
    "\n",
    "def part2(input, debug=False):\n",
    "    x_min, x_max, y_min, y_max = parse(input)\n",
    "    if debug: print(x_min, x_max, y_min, y_max)\n",
    "\n",
    "    grid = {}\n",
    "    for x in range(x_min, x_max+1):\n",
    "        for y in range(y_min, y_max+1):\n",
    "            grid[(x,y)] = True\n",
    "\n",
    "    uniq = set()\n",
    "    for xv in range(0, 500):\n",
    "        for yv in range(y_min, 500):\n",
    "            passing, max_y_n = shoot(xv, yv, grid, y_min)\n",
    "            if passing:\n",
    "                uniq.add((xv,yv))\n",
    "                if debug: print(f'{xv = } {yv = } {len(uniq) = }')\n",
    "    \n",
    "    print(f'Part 2 {input}: {len(uniq) = }')\n",
    "\n",
    "\n",
    "\n",
    "part1('17.txt')\n",
    "\n",
    "part2('17.txt')"
   ]
  },
  {
   "cell_type": "code",
   "execution_count": null,
   "metadata": {},
   "outputs": [],
   "source": []
  }
 ],
 "metadata": {
  "kernelspec": {
   "display_name": "Python 3",
   "language": "python",
   "name": "python3"
  },
  "language_info": {
   "codemirror_mode": {
    "name": "ipython",
    "version": 3
   },
   "file_extension": ".py",
   "mimetype": "text/x-python",
   "name": "python",
   "nbconvert_exporter": "python",
   "pygments_lexer": "ipython3",
   "version": "3.8.5"
  }
 },
 "nbformat": 4,
 "nbformat_minor": 4
}

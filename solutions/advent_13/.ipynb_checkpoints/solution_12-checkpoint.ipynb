{
 "cells": [
  {
   "cell_type": "code",
   "execution_count": 3,
   "metadata": {},
   "outputs": [
    {
     "name": "stdout",
     "output_type": "stream",
     "text": [
      "[1422.9999999999948, -633.9999999999944] -2340 1557.84626969415 2056.999999999989\n"
     ]
    }
   ],
   "source": [
    "import math\n",
    "\n",
    "\n",
    "FILE = \"12.txt\"\n",
    "\n",
    "data = []\n",
    "\n",
    "with open(FILE, \"r\") as f:\n",
    "    for line in f:\n",
    "        line = line.strip()\n",
    "        action, param = line[0], line[1:]\n",
    "        data.append((action, int(param)))\n",
    "\n",
    "pos = [0, 0]\n",
    "angle = 0  # angle 0 = (1, 0), positive angle is counterclockwise\n",
    "\n",
    "for action, param in data:\n",
    "    if action == \"N\":\n",
    "        pos[1] += param\n",
    "    elif action == \"S\":\n",
    "        pos[1] -= param\n",
    "    elif action == \"E\":\n",
    "        pos[0] += param\n",
    "    elif action == \"W\":\n",
    "        pos[0] -= param\n",
    "    elif action == \"L\":\n",
    "        angle += param\n",
    "    elif action == \"R\":\n",
    "        angle -= param\n",
    "    elif action == \"F\":\n",
    "        rad = math.radians(angle)\n",
    "        pos[0] += math.cos(rad) * param\n",
    "        pos[1] += math.sin(rad) * param\n",
    "\n",
    "distance = math.hypot(*pos)\n",
    "manhat_dist = sum(abs(x) for x in pos)\n",
    "\n",
    "print(pos, angle, distance, manhat_dist)"
   ]
  },
  {
   "cell_type": "code",
   "execution_count": 4,
   "metadata": {},
   "outputs": [
    {
     "name": "stdout",
     "output_type": "stream",
     "text": [
      "[24271.000000000033, -47232.99999999985] 53104.027436720724 71503.99999999988\n"
     ]
    }
   ],
   "source": [
    "import math\n",
    "\n",
    "FILE = \"12.txt\"\n",
    "\n",
    "data = []\n",
    "\n",
    "with open(FILE, \"r\") as f:\n",
    "    for line in f:\n",
    "        line = line.strip()\n",
    "        action, param = line[0], line[1:]\n",
    "        data.append((action, int(param)))\n",
    "\n",
    "waypoint = [10, 1]\n",
    "pos = [0, 0]\n",
    "# angle 0 = (1, 0), positive angle is counterclockwise\n",
    "\n",
    "\n",
    "def rotate(waypoint, delta_angle):\n",
    "    distance = math.hypot(*waypoint)\n",
    "    angle = math.atan2(waypoint[1], waypoint[0])\n",
    "\n",
    "    angle += math.radians(delta_angle)\n",
    "    waypoint[0] = math.cos(angle) * distance\n",
    "    waypoint[1] = math.sin(angle) * distance\n",
    "\n",
    "    return waypoint\n",
    "\n",
    "\n",
    "for action, param in data:\n",
    "    if action == \"N\":\n",
    "        waypoint[1] += param\n",
    "    elif action == \"S\":\n",
    "        waypoint[1] -= param\n",
    "    elif action == \"E\":\n",
    "        waypoint[0] += param\n",
    "    elif action == \"W\":\n",
    "        waypoint[0] -= param\n",
    "    elif action == \"L\":\n",
    "        waypoint = rotate(waypoint, param)\n",
    "    elif action == \"R\":\n",
    "        waypoint = rotate(waypoint, -1 * param)\n",
    "    elif action == \"F\":\n",
    "        pos[0] += waypoint[0] * param\n",
    "        pos[1] += waypoint[1] * param\n",
    "\n",
    "distance = math.hypot(*pos)\n",
    "manhat_dist = sum(abs(x) for x in pos)\n",
    "\n",
    "print(pos, distance, manhat_dist)"
   ]
  }
 ],
 "metadata": {
  "kernelspec": {
   "display_name": "Python 3",
   "language": "python",
   "name": "python3"
  },
  "language_info": {
   "codemirror_mode": {
    "name": "ipython",
    "version": 3
   },
   "file_extension": ".py",
   "mimetype": "text/x-python",
   "name": "python",
   "nbconvert_exporter": "python",
   "pygments_lexer": "ipython3",
   "version": "3.8.5"
  }
 },
 "nbformat": 4,
 "nbformat_minor": 4
}

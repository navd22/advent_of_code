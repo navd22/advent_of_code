{
 "cells": [
  {
   "cell_type": "code",
   "execution_count": 29,
   "metadata": {},
   "outputs": [
    {
     "name": "stdout",
     "output_type": "stream",
     "text": [
      "5690\n"
     ]
    }
   ],
   "source": [
    "import re\n",
    "\n",
    "inputf = \"5.input\"\n",
    "with open(inputf) as f:\n",
    "  lines = [re.findall(\"(\\d+),(\\d+) -> (\\d+),(\\d+)\", x)[0] for x in f.readlines()]\n",
    "lines = [(int(a), int(b), int(c), int(d)) for a, b, c, d in lines if (a == c or b == d)]\n",
    "\n",
    "overlaps = {}\n",
    "for a, b, c, d in lines:\n",
    "  if a == c:\n",
    "    for i in range(min(b, d), max(b, d) + 1):\n",
    "      overlaps[(a, i)] = overlaps.setdefault((a, i), 0) + 1\n",
    "  elif b == d:\n",
    "    for i in range(min(a, c), max(a, c) + 1):\n",
    "      overlaps[(i, b)] = overlaps.setdefault((i, b), 0) + 1\n",
    "overlaps = {k:v for k, v in overlaps.items() if v > 1}\n",
    "print(len(overlaps))"
   ]
  },
  {
   "cell_type": "code",
   "execution_count": 30,
   "metadata": {},
   "outputs": [
    {
     "name": "stdout",
     "output_type": "stream",
     "text": [
      "17741\n"
     ]
    }
   ],
   "source": [
    "import re\n",
    "\n",
    "inputf = \"5.input\"\n",
    "with open(inputf) as f:\n",
    "  lines = [re.findall(\"(\\d+),(\\d+) -> (\\d+),(\\d+)\", x)[0] for x in f.readlines()]\n",
    "lines = [(int(a), int(b), int(c), int(d)) for a, b, c, d in lines]\n",
    "overlaps = {}\n",
    "for a, b, c, d in lines:\n",
    "  if a == c:\n",
    "    for i in range(min(b, d), max(b, d) + 1):\n",
    "      overlaps[(a, i)] = overlaps.setdefault((a, i), 0) + 1\n",
    "  elif b == d:\n",
    "    for i in range(min(a, c), max(a, c) + 1):\n",
    "      overlaps[(i, b)] = overlaps.setdefault((i, b), 0) + 1\n",
    "  else:\n",
    "    x = a\n",
    "    y = b\n",
    "    while True:\n",
    "      overlaps[(x, y)] = overlaps.setdefault((x, y), 0) + 1\n",
    "      if(x == c and y == d):\n",
    "        break\n",
    "      if c > a:\n",
    "        x += 1\n",
    "      else:\n",
    "        x -= 1\n",
    "      if d > b:\n",
    "        y += 1\n",
    "      else:\n",
    "        y -= 1\n",
    "      \n",
    "overlaps = {k:v for k, v in overlaps.items() if v > 1}\n",
    "print(len(overlaps))"
   ]
  },
  {
   "cell_type": "code",
   "execution_count": null,
   "metadata": {},
   "outputs": [],
   "source": []
  },
  {
   "cell_type": "code",
   "execution_count": null,
   "metadata": {},
   "outputs": [],
   "source": []
  }
 ],
 "metadata": {
  "kernelspec": {
   "display_name": "Python 3",
   "language": "python",
   "name": "python3"
  },
  "language_info": {
   "codemirror_mode": {
    "name": "ipython",
    "version": 3
   },
   "file_extension": ".py",
   "mimetype": "text/x-python",
   "name": "python",
   "nbconvert_exporter": "python",
   "pygments_lexer": "ipython3",
   "version": "3.8.5"
  }
 },
 "nbformat": 4,
 "nbformat_minor": 4
}

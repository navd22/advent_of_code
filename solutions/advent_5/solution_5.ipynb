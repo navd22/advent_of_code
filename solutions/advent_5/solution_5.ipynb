{
 "cells": [
  {
   "cell_type": "code",
   "execution_count": 29,
   "metadata": {},
   "outputs": [
    {
     "name": "stdout",
     "output_type": "stream",
     "text": [
      "5690\n"
     ]
    }
   ],
   "source": []
  },
  {
   "cell_type": "code",
   "execution_count": 32,
   "metadata": {},
   "outputs": [
    {
     "name": "stdout",
     "output_type": "stream",
     "text": [
      "5690\n",
      "17741\n"
     ]
    }
   ],
   "source": [
    "import re\n",
    "inputf = \"5.input\"\n",
    "with open(inputf) as f:\n",
    "  lines = [re.findall(\"(\\d+),(\\d+) -> (\\d+),(\\d+)\", x)[0] for x in f.readlines()]\n",
    "\n",
    "lines = [(int(a), int(b), int(c), int(d)) for a, b, c, d in lines if (a == c or b == d)]\n",
    "\n",
    "overlaps = {}\n",
    "for a, b, c, d in lines:\n",
    "  if a == c:\n",
    "    for i in range(min(b, d), max(b, d) + 1):\n",
    "      overlaps[(a, i)] = overlaps.setdefault((a, i), 0) + 1\n",
    "  elif b == d:\n",
    "    for i in range(min(a, c), max(a, c) + 1):\n",
    "      overlaps[(i, b)] = overlaps.setdefault((i, b), 0) + 1\n",
    "overlaps = {k:v for k, v in overlaps.items() if v > 1}\n",
    "\n",
    "print(len(overlaps))\n",
    "\n",
    "\n",
    "with open(inputf) as f:\n",
    "  lines = [re.findall(\"(\\d+),(\\d+) -> (\\d+),(\\d+)\", x)[0] for x in f.readlines()]\n",
    "lines = [(int(a), int(b), int(c), int(d)) for a, b, c, d in lines]\n",
    "overlaps = {}\n",
    "for a, b, c, d in lines:\n",
    "  if a == c:\n",
    "    for i in range(min(b, d), max(b, d) + 1):\n",
    "      overlaps[(a, i)] = overlaps.setdefault((a, i), 0) + 1\n",
    "  elif b == d:\n",
    "    for i in range(min(a, c), max(a, c) + 1):\n",
    "      overlaps[(i, b)] = overlaps.setdefault((i, b), 0) + 1\n",
    "  else:\n",
    "    x = a\n",
    "    y = b\n",
    "    while True:\n",
    "      overlaps[(x, y)] = overlaps.setdefault((x, y), 0) + 1\n",
    "      if(x == c and y == d):\n",
    "        break\n",
    "      if c > a:\n",
    "        x += 1\n",
    "      else:\n",
    "        x -= 1\n",
    "      if d > b:\n",
    "        y += 1\n",
    "      else:\n",
    "        y -= 1\n",
    "      \n",
    "overlaps = {k:v for k, v in overlaps.items() if v > 1}\n",
    "print(len(overlaps))"
   ]
  },
  {
   "cell_type": "code",
   "execution_count": 33,
   "metadata": {},
   "outputs": [
    {
     "name": "stdout",
     "output_type": "stream",
     "text": [
      "17741\n"
     ]
    }
   ],
   "source": [
    "with open('5.input') as f:\n",
    "    inputList = [list(map(int, matrix.split())) for matrix in f.read().replace('->', '').replace(',', ' ').split('\\n')]\n",
    "\n",
    "finalCount = 0\n",
    "hotSpots = {} # initialize output\n",
    "for line in inputList:\n",
    "    # set Step direction\n",
    "    xStep, yStep = 0, 0\n",
    "    if line[1] > line[3]:\n",
    "        yStep = -1\n",
    "    elif line[1] < line[3]:\n",
    "        yStep = 1\n",
    "    if line[0] > line[2]:\n",
    "        xStep = -1\n",
    "    elif line[0] < line[2]:\n",
    "        xStep = 1\n",
    "\n",
    "    # loop through line positions\n",
    "    while line[0] != line[2]+xStep or line[1] != line[3]+yStep:\n",
    "        if (line[0], line[1]) in hotSpots:\n",
    "            if hotSpots[line[0], line[1]] == 1: # don't double count a hot spot\n",
    "                finalCount += 1\n",
    "            hotSpots[line[0], line[1]] += 1\n",
    "        else:\n",
    "            hotSpots[line[0], line[1]] = 1\n",
    "        line[0] += xStep\n",
    "        line[1] += yStep\n",
    "print(finalCount)"
   ]
  },
  {
   "cell_type": "code",
   "execution_count": null,
   "metadata": {},
   "outputs": [],
   "source": []
  }
 ],
 "metadata": {
  "kernelspec": {
   "display_name": "Python 3",
   "language": "python",
   "name": "python3"
  },
  "language_info": {
   "codemirror_mode": {
    "name": "ipython",
    "version": 3
   },
   "file_extension": ".py",
   "mimetype": "text/x-python",
   "name": "python",
   "nbconvert_exporter": "python",
   "pygments_lexer": "ipython3",
   "version": "3.8.5"
  }
 },
 "nbformat": 4,
 "nbformat_minor": 4
}

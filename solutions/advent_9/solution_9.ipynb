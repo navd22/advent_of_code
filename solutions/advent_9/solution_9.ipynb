{
 "cells": [
  {
   "cell_type": "code",
   "execution_count": 7,
   "metadata": {},
   "outputs": [
    {
     "name": "stdout",
     "output_type": "stream",
     "text": [
      "425\n"
     ]
    }
   ],
   "source": [
    "data = []\n",
    "with open('9.txt') as f:\n",
    "    for x in f.readlines():\n",
    "        data.append([int(y) for y in x.strip()])\n",
    "\n",
    "coords = {}\n",
    "\n",
    "for y in range(0,len(data)):\n",
    "    for x in range(0,len(data[0])):\n",
    "        coords[(x,y)] = data[y][x]\n",
    "\n",
    "lowests = []\n",
    "\n",
    "for k in coords.keys():\n",
    "    neighbours = [(k[0]+1,k[1]),(k[0]-1,k[1]),(k[0],k[1]+1),(k[0],k[1]-1)]\n",
    "    neighbour_lower = False\n",
    "    for n in neighbours:\n",
    "        if n not in coords:\n",
    "            pass\n",
    "        elif coords[n] <= coords[k]:\n",
    "            neighbour_lower = True\n",
    "    if not neighbour_lower:\n",
    "        lowests.append(coords[k])\n",
    "\n",
    "print(sum([x+1 for x in lowests]))"
   ]
  },
  {
   "cell_type": "code",
   "execution_count": 8,
   "metadata": {},
   "outputs": [
    {
     "name": "stdout",
     "output_type": "stream",
     "text": [
      "1135260\n"
     ]
    }
   ],
   "source": [
    "data = []\n",
    "with open('9.txt') as f:\n",
    "    for x in f.readlines():\n",
    "        data.append([int(y) for y in x.strip()])\n",
    "\n",
    "coords = {}\n",
    "\n",
    "for y in range(0,len(data)):\n",
    "    for x in range(0,len(data[0])):\n",
    "        coords[(x,y)] = data[y][x]\n",
    "\n",
    "lowests = []\n",
    "\n",
    "for k in coords.keys():\n",
    "    neighbours = [(k[0]+1,k[1]),(k[0]-1,k[1]),(k[0],k[1]+1),(k[0],k[1]-1)]\n",
    "    neighbour_lower = False\n",
    "    for n in neighbours:\n",
    "        if n not in coords:\n",
    "            pass\n",
    "        elif coords[n] <= coords[k]:\n",
    "            neighbour_lower = True\n",
    "    if not neighbour_lower:\n",
    "        lowests.append(k)\n",
    "\n",
    "basins = []\n",
    "for k in lowests:\n",
    "    basin = set([k])\n",
    "    search_space = [(k[0]+1,k[1]),(k[0]-1,k[1]),(k[0],k[1]+1),(k[0],k[1]-1)]\n",
    "    while len(search_space) != 0:\n",
    "        next_search_space = []\n",
    "        for s in search_space:\n",
    "            if s not in coords:\n",
    "                pass\n",
    "            elif coords[s] != 9:\n",
    "                basin.add(s)\n",
    "                next_search_space += [(s[0]+1,s[1]),(s[0]-1,s[1]),(s[0],s[1]+1),(s[0],s[1]-1)]\n",
    "\n",
    "        search_space = [x for x in next_search_space if x not in basin]\n",
    "    basins.append(basin)\n",
    "\n",
    "basin_size = 1\n",
    "for n in range(0,3):\n",
    "    basin_size *= list(sorted([-1*len(x) for x in basins]))[n]\n",
    "print(abs(basin_size))"
   ]
  },
  {
   "cell_type": "code",
   "execution_count": 11,
   "metadata": {},
   "outputs": [
    {
     "data": {
      "text/plain": [
       "4"
      ]
     },
     "execution_count": 11,
     "metadata": {},
     "output_type": "execute_result"
    }
   ],
   "source": []
  },
  {
   "cell_type": "code",
   "execution_count": null,
   "metadata": {},
   "outputs": [],
   "source": []
  }
 ],
 "metadata": {
  "kernelspec": {
   "display_name": "Python 3",
   "language": "python",
   "name": "python3"
  },
  "language_info": {
   "codemirror_mode": {
    "name": "ipython",
    "version": 3
   },
   "file_extension": ".py",
   "mimetype": "text/x-python",
   "name": "python",
   "nbconvert_exporter": "python",
   "pygments_lexer": "ipython3",
   "version": "3.8.5"
  }
 },
 "nbformat": 4,
 "nbformat_minor": 4
}

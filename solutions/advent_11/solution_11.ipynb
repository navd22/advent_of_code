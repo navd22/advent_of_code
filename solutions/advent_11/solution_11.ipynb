{
 "cells": [
  {
   "cell_type": "code",
   "execution_count": 1,
   "metadata": {},
   "outputs": [
    {
     "name": "stdout",
     "output_type": "stream",
     "text": [
      "1694\n",
      "346\n"
     ]
    }
   ],
   "source": [
    "INPUTPATH = \"11.txt\"\n",
    "#INPUTPATH = \"input-test.txt\"\n",
    "with open(INPUTPATH) as ifile:\n",
    "    raw = ifile.read()\n",
    "ini = tuple(map(int, raw.strip().split()))\n",
    "d = {\n",
    "    (i, j): int(n)\n",
    "    for i, row in enumerate(raw.strip().split())\n",
    "    for j, n in enumerate(row)\n",
    "}\n",
    "\n",
    "def step() -> int:\n",
    "    for k in d:\n",
    "        d[k] += 1\n",
    "    flashed = set()\n",
    "    while True:\n",
    "        flashes = set((i, j) for i in range(10) for j in range(10) if d[i, j] > 9)\n",
    "        if not flashes:\n",
    "            return len(flashed)\n",
    "        flashed.update(flashes)\n",
    "        for i, j in flashes:\n",
    "            for di in (-1, 0, 1):\n",
    "                for dj in (-1, 0, 1):\n",
    "                    if (i+di, j+dj) in d:\n",
    "                        d[i+di, j+dj] += 1\n",
    "        for f in flashed:\n",
    "            d[f] = 0\n",
    "\n",
    "count = 0\n",
    "for i in range(100):\n",
    "    count += step()\n",
    "print(count)\n",
    "\n",
    "d = {\n",
    "    (i, j): int(n)\n",
    "    for i, row in enumerate(raw.strip().split())\n",
    "    for j, n in enumerate(row)\n",
    "}\n",
    "for i in range(1_000_000):\n",
    "    x = step()\n",
    "    #print(x)\n",
    "    if x == 100:\n",
    "        print(i+1)\n",
    "        break"
   ]
  },
  {
   "cell_type": "code",
   "execution_count": 6,
   "metadata": {},
   "outputs": [
    {
     "name": "stdout",
     "output_type": "stream",
     "text": [
      "Element number is 0\n",
      "Element  is 0.5\n",
      "Range is range(0, 5)\n",
      "Length is 5\n",
      "Dataset is [0.5, 0.0, 0.0, 0.0, 0.0]\n",
      "Element number is 1\n",
      "Element  is 0.0\n",
      "Range is range(0, 5)\n",
      "Length is 5\n",
      "Dataset is [0.5, 0.0, 0.0, 0.0, 0.0]\n",
      "Element number is 2\n",
      "Element  is 0.0\n",
      "Range is range(0, 5)\n",
      "Length is 5\n",
      "Dataset is [0.5, 0.0, 0.0, 0.0, 0.0]\n",
      "Element number is 3\n",
      "Element  is 0.0\n",
      "Range is range(0, 5)\n",
      "Length is 5\n",
      "Dataset is [0.5, 0.0, 0.0, 0.0, 0.0]\n",
      "Element number is 4\n",
      "Element  is 0.0\n",
      "Range is range(0, 5)\n",
      "Length is 5\n",
      "Dataset is [0.5, 0.0, 0.0, 0.0, 0.0]\n"
     ]
    }
   ],
   "source": [
    "data = [0.5, 0.0, 0.0, 0.0, 0.0]\n",
    "for i in range(len(data)):\n",
    "    print(f\"Element number is {i}\")\n",
    "    print(f\"Element  is {data[i]}\")\n",
    "    print(f\"Range is {range(len(data))}\")\n",
    "    print(f\"Length is {(len(data))}\")\n",
    "    print(f\"Dataset is {data}\")"
   ]
  },
  {
   "cell_type": "code",
   "execution_count": 11,
   "metadata": {},
   "outputs": [
    {
     "data": {
      "text/plain": [
       "4"
      ]
     },
     "execution_count": 11,
     "metadata": {},
     "output_type": "execute_result"
    }
   ],
   "source": [
    "data = [0.5, 0.0, 0.0, 0.0, 1.0]\n",
    "data[-1]\n",
    "i = (len(data)-1)\n",
    "i"
   ]
  },
  {
   "cell_type": "code",
   "execution_count": null,
   "metadata": {},
   "outputs": [],
   "source": []
  }
 ],
 "metadata": {
  "kernelspec": {
   "display_name": "Python 3",
   "language": "python",
   "name": "python3"
  },
  "language_info": {
   "codemirror_mode": {
    "name": "ipython",
    "version": 3
   },
   "file_extension": ".py",
   "mimetype": "text/x-python",
   "name": "python",
   "nbconvert_exporter": "python",
   "pygments_lexer": "ipython3",
   "version": "3.8.5"
  }
 },
 "nbformat": 4,
 "nbformat_minor": 4
}

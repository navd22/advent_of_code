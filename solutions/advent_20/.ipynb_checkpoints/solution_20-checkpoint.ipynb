{
 "cells": [
  {
   "cell_type": "code",
   "execution_count": 1,
   "metadata": {},
   "outputs": [
    {
     "name": "stdout",
     "output_type": "stream",
     "text": [
      "18262194216271\n",
      "2023\n"
     ]
    }
   ],
   "source": [
    "INPUTPATH = \"input.txt\"\n",
    "#INPUTPATH = \"input-test.txt\"\n",
    "with open(INPUTPATH) as ifile:\n",
    "    raw = ifile.read()\n",
    "header, body = raw.strip().split(\"\\n\\n\")\n",
    "alg = tuple(c == \"#\" for c in header)\n",
    "inp = {(i, j) for i, r in enumerate(body.strip().split()) for j, c in enumerate(r) if c == \"#\"}\n",
    "\n",
    "from collections.abc import Callable\n",
    "Image = Callable[[int, int], bool]\n",
    "\n",
    "from functools import cache\n",
    "def enhance(src: Image) -> Image:\n",
    "    @cache\n",
    "    def get_pixel(i: int, j: int) -> bool:\n",
    "        bits = \"\".join(\"1\" if src(i + di, j + dj) else \"0\" for di in (-1,0,1) for dj in (-1,0,1))\n",
    "        index = int(bits, 2)\n",
    "        return alg[index]\n",
    "    return get_pixel\n",
    "\n",
    "def lit(img: Image, bounds: tuple[tuple[int, int], tuple[int, int]]) -> int:\n",
    "    (im, ix), (jm, jx) = bounds\n",
    "    return sum(1 for i in range(im, ix+1) for j in range(jm, jx+1) if img(i, j))\n",
    "\n",
    "img = lambda i, j: (i, j) in inp\n",
    "indices, jndices = zip(*inp)\n",
    "bounds = ((min(indices), max(indices)), (min(jndices), max(jndices)))\n",
    "\n",
    "for _ in range(2):\n",
    "    img = enhance(img)\n",
    "    bounds = ((bounds[0][0]-1, bounds[0][1]+1), (bounds[1][0]-1, bounds[1][1]+1))\n",
    "print(lit(img, bounds))\n",
    "\n",
    "for _ in range(48):\n",
    "    img = enhance(img)\n",
    "    bounds = ((bounds[0][0]-1, bounds[0][1]+1), (bounds[1][0]-1, bounds[1][1]+1))\n",
    "print(lit(img, bounds))"
   ]
  }
 ],
 "metadata": {
  "kernelspec": {
   "display_name": "Python 3",
   "language": "python",
   "name": "python3"
  },
  "language_info": {
   "codemirror_mode": {
    "name": "ipython",
    "version": 3
   },
   "file_extension": ".py",
   "mimetype": "text/x-python",
   "name": "python",
   "nbconvert_exporter": "python",
   "pygments_lexer": "ipython3",
   "version": "3.8.5"
  }
 },
 "nbformat": 4,
 "nbformat_minor": 4
}

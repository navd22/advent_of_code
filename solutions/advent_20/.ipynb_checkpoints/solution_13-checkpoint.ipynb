{
 "cells": [
  {
   "cell_type": "code",
   "execution_count": 2,
   "metadata": {},
   "outputs": [
    {
     "name": "stdout",
     "output_type": "stream",
     "text": [
      "174\n",
      "780601154795940\n"
     ]
    }
   ],
   "source": [
    "import itertools\n",
    "import math\n",
    "from pathlib import Path\n",
    "\n",
    "\n",
    "def lcm(a, b):\n",
    "    return abs(a*b) // math.gcd(a, b)\n",
    "\n",
    "def n_lcm(arr):\n",
    "    res = arr[0]\n",
    "    for i in range(1, len(arr)):\n",
    "        res = lcm(res, arr[i])\n",
    "    return res\n",
    "\n",
    "def part_one(estimate, busses):\n",
    "    wait_time = float('inf')\n",
    "    bus_taken = 0\n",
    "    for bus in busses:\n",
    "        r = (((estimate // bus) * bus) - estimate) + bus\n",
    "        if r < wait_time:\n",
    "            wait_time = r\n",
    "            bus_taken = bus\n",
    "    return wait_time * bus_taken\n",
    "\n",
    "def part_two(input_data):\n",
    "    t = 0\n",
    "    prev_num = input_data[0]\n",
    "    nums = [prev_num]\n",
    "    for i, num in enumerate(input_data):\n",
    "        if i == 0 or num == \"x\":\n",
    "            continue\n",
    "        target = i\n",
    "        if i > num:\n",
    "            target = i % num\n",
    "        r = (((t // num) * num) - t) + num\n",
    "        while r != target:\n",
    "            t += prev_num\n",
    "            r = (((t // num) * num) - t) + num\n",
    "        nums.append(num)\n",
    "        prev_num = n_lcm(nums)\n",
    "    return t\n",
    "\n",
    "\n",
    "if __name__ == \"__main__\":\n",
    "    DATA = open('13.txt').read().splitlines()\n",
    "    estimate = int(DATA[0])\n",
    "    busses = [int(x) for x in DATA[1].split(',') if x != \"x\"]\n",
    "    print(part_one(estimate, busses))\n",
    "    schedule = [int(x) if x != \"x\" else x for x in DATA[1].split(',')]\n",
    "    print(part_two(schedule))"
   ]
  },
  {
   "cell_type": "code",
   "execution_count": 4,
   "metadata": {},
   "outputs": [
    {
     "name": "stdout",
     "output_type": "stream",
     "text": [
      "[24271.000000000033, -47232.99999999985] 53104.027436720724 71503.99999999988\n"
     ]
    }
   ],
   "source": [
    "import math\n",
    "\n",
    "FILE = \"12.txt\"\n",
    "\n",
    "data = []\n",
    "\n",
    "with open(FILE, \"r\") as f:\n",
    "    for line in f:\n",
    "        line = line.strip()\n",
    "        action, param = line[0], line[1:]\n",
    "        data.append((action, int(param)))\n",
    "\n",
    "waypoint = [10, 1]\n",
    "pos = [0, 0]\n",
    "# angle 0 = (1, 0), positive angle is counterclockwise\n",
    "\n",
    "\n",
    "def rotate(waypoint, delta_angle):\n",
    "    distance = math.hypot(*waypoint)\n",
    "    angle = math.atan2(waypoint[1], waypoint[0])\n",
    "\n",
    "    angle += math.radians(delta_angle)\n",
    "    waypoint[0] = math.cos(angle) * distance\n",
    "    waypoint[1] = math.sin(angle) * distance\n",
    "\n",
    "    return waypoint\n",
    "\n",
    "\n",
    "for action, param in data:\n",
    "    if action == \"N\":\n",
    "        waypoint[1] += param\n",
    "    elif action == \"S\":\n",
    "        waypoint[1] -= param\n",
    "    elif action == \"E\":\n",
    "        waypoint[0] += param\n",
    "    elif action == \"W\":\n",
    "        waypoint[0] -= param\n",
    "    elif action == \"L\":\n",
    "        waypoint = rotate(waypoint, param)\n",
    "    elif action == \"R\":\n",
    "        waypoint = rotate(waypoint, -1 * param)\n",
    "    elif action == \"F\":\n",
    "        pos[0] += waypoint[0] * param\n",
    "        pos[1] += waypoint[1] * param\n",
    "\n",
    "distance = math.hypot(*pos)\n",
    "manhat_dist = sum(abs(x) for x in pos)\n",
    "\n",
    "print(pos, distance, manhat_dist)"
   ]
  }
 ],
 "metadata": {
  "kernelspec": {
   "display_name": "Python 3",
   "language": "python",
   "name": "python3"
  },
  "language_info": {
   "codemirror_mode": {
    "name": "ipython",
    "version": 3
   },
   "file_extension": ".py",
   "mimetype": "text/x-python",
   "name": "python",
   "nbconvert_exporter": "python",
   "pygments_lexer": "ipython3",
   "version": "3.8.5"
  }
 },
 "nbformat": 4,
 "nbformat_minor": 4
}

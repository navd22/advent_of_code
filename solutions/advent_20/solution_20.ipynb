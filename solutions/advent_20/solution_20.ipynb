{
 "cells": [
  {
   "cell_type": "code",
   "execution_count": 5,
   "metadata": {},
   "outputs": [
    {
     "name": "stdout",
     "output_type": "stream",
     "text": [
      "(1) How many pixels are lit in the resulting image? (2 steps)\n",
      "Answer: 5583\n",
      "(2) How many pixels are lit in the resulting image? (50 steps)\n",
      "Answer: 19592\n"
     ]
    }
   ],
   "source": [
    "def enhance(matrix, algo, steps=2):\n",
    "    EXTRA = 4*steps\n",
    "    size = len(matrix[0])\n",
    "    bigger = [['0']*(EXTRA+size) for _ in range(EXTRA)]\n",
    "    for row in matrix:\n",
    "        bigger.append(['0']*(EXTRA//2)+row+['0']*(EXTRA//2))\n",
    "    bigger += [['0']*(EXTRA+size) for _ in range(EXTRA)]\n",
    "    for i in range(steps):\n",
    "        new_matrix = []\n",
    "        for e, (a, b, c) in enumerate(zip(bigger, bigger[1:], bigger[2:]),1):\n",
    "            new_row = []\n",
    "            for col in range(1, len(a)-1):\n",
    "                square = \"\".join(a[col-1:col+2]+b[col-1:col+2]+c[col-1:col+2])\n",
    "                new_row.append(algo[int(square, 2)])\n",
    "            new_matrix.append(new_row)\n",
    "        bigger = new_matrix.copy()\n",
    "    summed = 0\n",
    "    for row in bigger:\n",
    "        summed += row.count(\"1\")\n",
    "    return summed\n",
    "\n",
    "\n",
    "def main():\n",
    "    with open(\"20.txt\") as file:\n",
    "        algo, matrix  = file.read().replace(\"#\", \"1\").replace(\".\",\"0\").split(\"\\n\\n\")\n",
    "        algo = [str(x) for x in algo]\n",
    "        matrix = [[str(x) for x in line] for line in matrix.split(\"\\n\")]\n",
    "\n",
    "    print(\"(1) How many pixels are lit in the resulting image? (2 steps)\")\n",
    "    print(F\"Answer: {enhance(matrix, algo)}\")\n",
    "    print(\"(2) How many pixels are lit in the resulting image? (50 steps)\")\n",
    "    print(f\"Answer: {enhance(matrix, algo, 50)}\")\n",
    "\n",
    "            \n",
    "main()"
   ]
  },
  {
   "cell_type": "code",
   "execution_count": null,
   "metadata": {},
   "outputs": [],
   "source": []
  }
 ],
 "metadata": {
  "kernelspec": {
   "display_name": "Python 3",
   "language": "python",
   "name": "python3"
  },
  "language_info": {
   "codemirror_mode": {
    "name": "ipython",
    "version": 3
   },
   "file_extension": ".py",
   "mimetype": "text/x-python",
   "name": "python",
   "nbconvert_exporter": "python",
   "pygments_lexer": "ipython3",
   "version": "3.8.5"
  }
 },
 "nbformat": 4,
 "nbformat_minor": 4
}

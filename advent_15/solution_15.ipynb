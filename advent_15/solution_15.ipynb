{
 "cells": [
  {
   "cell_type": "code",
   "execution_count": 7,
   "metadata": {},
   "outputs": [
    {
     "name": "stdout",
     "output_type": "stream",
     "text": [
      "257\n"
     ]
    }
   ],
   "source": [
    "import sys\n",
    "\n",
    "DATA = open('15.txt').read()\n",
    "\n",
    "numbers = [int(x) for x in DATA.split(',')]\n",
    "\n",
    "state = {\n",
    "    x: i\n",
    "    for i, x in enumerate(numbers[:-1], start=1)\n",
    "}\n",
    "\n",
    "last = numbers[-1]\n",
    "\n",
    "for turn in range(len(numbers), 2020):\n",
    "    age = turn - state.get(last, turn)\n",
    "\n",
    "    state[last] = turn\n",
    "\n",
    "    last = age\n",
    "\n",
    "print(age)"
   ]
  },
  {
   "cell_type": "code",
   "execution_count": 5,
   "metadata": {},
   "outputs": [
    {
     "name": "stdout",
     "output_type": "stream",
     "text": [
      "8546398\n"
     ]
    }
   ],
   "source": [
    "DATA = open('15.txt').read()\n",
    "\n",
    "numbers = [int(x) for x in DATA.split(',')]\n",
    "\n",
    "state = {\n",
    "    x: i\n",
    "    for i, x in enumerate(numbers[:-1], start=1)\n",
    "}\n",
    "\n",
    "last = numbers[-1]\n",
    "\n",
    "for turn in range(len(numbers), 30_000_000):\n",
    "    age = turn - state.get(last, turn)\n",
    "\n",
    "    state[last] = turn\n",
    "\n",
    "    last = age\n",
    "\n",
    "print(age)"
   ]
  },
  {
   "cell_type": "code",
   "execution_count": null,
   "metadata": {},
   "outputs": [],
   "source": []
  },
  {
   "cell_type": "code",
   "execution_count": null,
   "metadata": {},
   "outputs": [],
   "source": []
  }
 ],
 "metadata": {
  "kernelspec": {
   "display_name": "Python 3",
   "language": "python",
   "name": "python3"
  },
  "language_info": {
   "codemirror_mode": {
    "name": "ipython",
    "version": 3
   },
   "file_extension": ".py",
   "mimetype": "text/x-python",
   "name": "python",
   "nbconvert_exporter": "python",
   "pygments_lexer": "ipython3",
   "version": "3.8.5"
  }
 },
 "nbformat": 4,
 "nbformat_minor": 4
}

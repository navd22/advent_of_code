{
 "cells": [
  {
   "cell_type": "code",
   "execution_count": 6,
   "metadata": {},
   "outputs": [
    {
     "name": "stdout",
     "output_type": "stream",
     "text": [
      "1584\n",
      "920\n"
     ]
    }
   ],
   "source": [
    "import math \n",
    "import functools\n",
    "import re\n",
    "import random\n",
    "import collections\n",
    "\n",
    "class Instruction:\n",
    "    def __init__(self, op, arg):\n",
    "        self.op = op\n",
    "        self.arg = arg\n",
    "\n",
    "def solve1(code):\n",
    "    line = 0\n",
    "    acc = 0\n",
    "    seen = set()\n",
    "\n",
    "    while True:\n",
    "        if line in seen or line >= len(code):\n",
    "            print(acc)\n",
    "            break\n",
    "        seen.add(line)    \n",
    "        inst = code[line]\n",
    "\n",
    "        if inst.op == \"acc\":\n",
    "            acc += inst.arg\n",
    "            line += 1\n",
    "        elif inst.op == \"jmp\":\n",
    "            line += inst.arg\n",
    "        elif inst.op == \"nop\":\n",
    "            line += 1\n",
    "\n",
    "def solve2(code):\n",
    "    # Try every line, and swap nops for jmp\n",
    "    for i in range(len(code)):\n",
    "        if code[i].op == \"nop\" or code[i].op == \"jmp\":\n",
    "            # Swap the op\n",
    "            code[i].op = \"nop\" if code[i].op == \"jmp\" else \"jmp\"\n",
    "\n",
    "            # Run the program!\n",
    "            line = 0\n",
    "            acc = 0\n",
    "            seen = set()\n",
    "\n",
    "            while True:\n",
    "                if line in seen:\n",
    "                    break\n",
    "                if line == len(code):\n",
    "                    print(acc)\n",
    "                    return\n",
    "\n",
    "                seen.add(line)    \n",
    "                inst = code[line]\n",
    "\n",
    "                if inst.op == \"acc\":\n",
    "                    acc += inst.arg\n",
    "                    line += 1\n",
    "                elif inst.op == \"jmp\":\n",
    "                    line += inst.arg\n",
    "                elif inst.op == \"nop\":\n",
    "                    line += 1\n",
    "\n",
    "            # Switch back\n",
    "            code[i].op = \"nop\" if code[i].op == \"jmp\" else \"jmp\"\n",
    "\n",
    "\n",
    "\n",
    "with open('8.txt') as f:\n",
    "    data = f.read().splitlines()\n",
    "    code = list(map(lambda x: Instruction(x.split()[0], int(x.split()[1])), data))\n",
    "    solve1(code)\n",
    "    solve2(code)"
   ]
  }
 ],
 "metadata": {
  "kernelspec": {
   "display_name": "Python 3",
   "language": "python",
   "name": "python3"
  },
  "language_info": {
   "codemirror_mode": {
    "name": "ipython",
    "version": 3
   },
   "file_extension": ".py",
   "mimetype": "text/x-python",
   "name": "python",
   "nbconvert_exporter": "python",
   "pygments_lexer": "ipython3",
   "version": "3.8.5"
  }
 },
 "nbformat": 4,
 "nbformat_minor": 4
}

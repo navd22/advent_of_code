{
 "cells": [
  {
   "cell_type": "code",
   "execution_count": 5,
   "metadata": {},
   "outputs": [],
   "source": [
    "def read_input():\n",
    "    with open(\"6.txt\", \"r\") as f:\n",
    "        inp = f.read()\n",
    "    return inp\n",
    "\n",
    "inp = read_input()\n",
    "\n",
    "from string import ascii_lowercase as letters\n",
    "def split_inp(inp=inp):\n",
    "    yield from inp.split(\"\\n\\n\")\n",
    "\n",
    "def aoc_6_1(inp=inp):\n",
    "    return sum(ltr in grp \n",
    "               for ltr in letters\n",
    "               for grp in split_inp(inp))"
   ]
  },
  {
   "cell_type": "code",
   "execution_count": 6,
   "metadata": {},
   "outputs": [
    {
     "data": {
      "text/plain": [
       "6662"
      ]
     },
     "execution_count": 6,
     "metadata": {},
     "output_type": "execute_result"
    }
   ],
   "source": [
    "aoc_6_1()"
   ]
  },
  {
   "cell_type": "code",
   "execution_count": 7,
   "metadata": {},
   "outputs": [],
   "source": [
    "def split_group(grp):\n",
    "    return grp.splitlines()\n",
    "\n",
    "def calc_group(grp):\n",
    "    return sum(all([letter in person for person in split_group(grp)]) \n",
    "               for letter in letters)\n",
    "\n",
    "def aoc_6_2(inp=inp):\n",
    "    return sum(calc_group(grp) for grp in split_inp(inp))"
   ]
  },
  {
   "cell_type": "code",
   "execution_count": 8,
   "metadata": {},
   "outputs": [
    {
     "data": {
      "text/plain": [
       "3382"
      ]
     },
     "execution_count": 8,
     "metadata": {},
     "output_type": "execute_result"
    }
   ],
   "source": [
    "aoc_6_2()"
   ]
  }
 ],
 "metadata": {
  "kernelspec": {
   "display_name": "Python 3",
   "language": "python",
   "name": "python3"
  },
  "language_info": {
   "codemirror_mode": {
    "name": "ipython",
    "version": 3
   },
   "file_extension": ".py",
   "mimetype": "text/x-python",
   "name": "python",
   "nbconvert_exporter": "python",
   "pygments_lexer": "ipython3",
   "version": "3.8.5"
  }
 },
 "nbformat": 4,
 "nbformat_minor": 4
}

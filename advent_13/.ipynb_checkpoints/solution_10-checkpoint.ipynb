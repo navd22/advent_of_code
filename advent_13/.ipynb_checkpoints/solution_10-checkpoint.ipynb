{
 "cells": [
  {
   "cell_type": "code",
   "execution_count": 1,
   "metadata": {},
   "outputs": [
    {
     "name": "stdout",
     "output_type": "stream",
     "text": [
      "{1: 70, 3: 33}\n",
      "2310\n",
      "===\n",
      "169\n",
      "64793042714624\n"
     ]
    }
   ],
   "source": [
    "lines = open('10.txt').read().splitlines()\n",
    "\n",
    "numbers = sorted([int(n) for n in lines])\n",
    "\n",
    "END = numbers[-1] + 3\n",
    "nset = set(numbers) | {END}\n",
    "\n",
    "diffs = {1: 1, 3: 1}\n",
    "\n",
    "for i, n in enumerate(numbers[:-1]):\n",
    "    diffs[numbers[i + 1] - n] += 1\n",
    "\n",
    "print(diffs)\n",
    "print(diffs[1] * diffs[3])\n",
    "\n",
    "print('===')\n",
    "print(END)\n",
    "\n",
    "cache = {}\n",
    "\n",
    "def solve(n):\n",
    "    if n == END:\n",
    "        return 1 \n",
    "    elif n in cache:\n",
    "        return cache[n]\n",
    "    else:\n",
    "        local = 0\n",
    "        for i in range(1, 4):\n",
    "            n2 = n + i\n",
    "            if n2 in nset:\n",
    "                local += solve(n2)\n",
    "        cache[n] = local\n",
    "        return local\n",
    "\n",
    "print(solve(0))"
   ]
  },
  {
   "cell_type": "code",
   "execution_count": 6,
   "metadata": {},
   "outputs": [
    {
     "name": "stdout",
     "output_type": "stream",
     "text": [
      "Element number is 0\n",
      "Element  is 0.5\n",
      "Range is range(0, 5)\n",
      "Length is 5\n",
      "Dataset is [0.5, 0.0, 0.0, 0.0, 0.0]\n",
      "Element number is 1\n",
      "Element  is 0.0\n",
      "Range is range(0, 5)\n",
      "Length is 5\n",
      "Dataset is [0.5, 0.0, 0.0, 0.0, 0.0]\n",
      "Element number is 2\n",
      "Element  is 0.0\n",
      "Range is range(0, 5)\n",
      "Length is 5\n",
      "Dataset is [0.5, 0.0, 0.0, 0.0, 0.0]\n",
      "Element number is 3\n",
      "Element  is 0.0\n",
      "Range is range(0, 5)\n",
      "Length is 5\n",
      "Dataset is [0.5, 0.0, 0.0, 0.0, 0.0]\n",
      "Element number is 4\n",
      "Element  is 0.0\n",
      "Range is range(0, 5)\n",
      "Length is 5\n",
      "Dataset is [0.5, 0.0, 0.0, 0.0, 0.0]\n"
     ]
    }
   ],
   "source": [
    "data = [0.5, 0.0, 0.0, 0.0, 0.0]\n",
    "for i in range(len(data)):\n",
    "    print(f\"Element number is {i}\")\n",
    "    print(f\"Element  is {data[i]}\")\n",
    "    print(f\"Range is {range(len(data))}\")\n",
    "    print(f\"Length is {(len(data))}\")\n",
    "    print(f\"Dataset is {data}\")"
   ]
  },
  {
   "cell_type": "code",
   "execution_count": 11,
   "metadata": {},
   "outputs": [
    {
     "data": {
      "text/plain": [
       "4"
      ]
     },
     "execution_count": 11,
     "metadata": {},
     "output_type": "execute_result"
    }
   ],
   "source": [
    "data = [0.5, 0.0, 0.0, 0.0, 1.0]\n",
    "data[-1]\n",
    "i = (len(data)-1)\n",
    "i"
   ]
  },
  {
   "cell_type": "code",
   "execution_count": null,
   "metadata": {},
   "outputs": [],
   "source": []
  }
 ],
 "metadata": {
  "kernelspec": {
   "display_name": "Python 3",
   "language": "python",
   "name": "python3"
  },
  "language_info": {
   "codemirror_mode": {
    "name": "ipython",
    "version": 3
   },
   "file_extension": ".py",
   "mimetype": "text/x-python",
   "name": "python",
   "nbconvert_exporter": "python",
   "pygments_lexer": "ipython3",
   "version": "3.8.5"
  }
 },
 "nbformat": 4,
 "nbformat_minor": 4
}

{
 "cells": [
  {
   "cell_type": "code",
   "execution_count": 2,
   "metadata": {},
   "outputs": [
    {
     "name": "stdout",
     "output_type": "stream",
     "text": [
      "Combo 2: 290784\n",
      "Combo 3: 177337980\n"
     ]
    }
   ],
   "source": [
    "import itertools\n",
    "import math\n",
    "\n",
    "def read():\n",
    "    input_list = []\n",
    "    with open('1.txt') as f:\n",
    "        for line in f:\n",
    "            input_list.append(int(line))\n",
    "    return input_list\n",
    "\n",
    "\n",
    "def process(input_list, combo_no):\n",
    "    for combo in itertools.combinations(input_list, combo_no):\n",
    "        if sum(combo) == 2020:\n",
    "            return math.prod(combo)\n",
    "\n",
    "\n",
    "def main(combo_no):\n",
    "    input_list = read()\n",
    "    return process(input_list, combo_no)\n",
    "\n",
    "\n",
    "if __name__ == '__main__':\n",
    "    print(f'Combo 2: {main(combo_no=2)}')\n",
    "    print(f'Combo 3: {main(combo_no=3)}')"
   ]
  }
 ],
 "metadata": {
  "kernelspec": {
   "display_name": "Python 3",
   "language": "python",
   "name": "python3"
  },
  "language_info": {
   "codemirror_mode": {
    "name": "ipython",
    "version": 3
   },
   "file_extension": ".py",
   "mimetype": "text/x-python",
   "name": "python",
   "nbconvert_exporter": "python",
   "pygments_lexer": "ipython3",
   "version": "3.8.5"
  }
 },
 "nbformat": 4,
 "nbformat_minor": 4
}

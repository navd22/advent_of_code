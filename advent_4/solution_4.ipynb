{
 "cells": [
  {
   "cell_type": "code",
   "execution_count": 1,
   "metadata": {},
   "outputs": [
    {
     "name": "stdout",
     "output_type": "stream",
     "text": [
      "Part 1: 202\n",
      "Part 2: 137\n"
     ]
    }
   ],
   "source": [
    "import re\n",
    "\n",
    "with open('4.input') as f:\n",
    "    input = f.read()\n",
    "\n",
    "inputSpl = input.split('\\n\\n')\n",
    "\n",
    "eyeColors = [\"amb\", \"blu\", \"brn\", \"gry\", \"grn\", \"hzl\", \"oth\"]\n",
    "\n",
    "\n",
    "def determine(pp, part2):\n",
    "    hasFields = 'byr' in pp and 'iyr' in pp and 'eyr' in pp and 'hgt' in pp and 'hcl' in pp and 'ecl' in pp and 'pid' in pp\n",
    "    if not hasFields:\n",
    "        return False\n",
    "    elif not part2:\n",
    "        return True\n",
    "\n",
    "    fields = pp.split()\n",
    "    for f in fields:\n",
    "        fieldValid = False\n",
    "        kval = f.split(':')\n",
    "        if kval[0] == \"byr\" and int(kval[1]) >= 1920 and int(kval[1]) <= 2002:\n",
    "            fieldValid = True\n",
    "        elif kval[0] == \"iyr\" and int(kval[1]) >= 2010 and int(kval[1]) <= 2020:\n",
    "            fieldValid = True\n",
    "        elif kval[0] == \"eyr\" and int(kval[1]) >= 2020 and int(kval[1]) <= 2030:\n",
    "            fieldValid = True\n",
    "        elif kval[0] == \"hgt\":\n",
    "            if kval[1].rfind(\"in\") != -1:\n",
    "                if int(kval[1][:kval[1].rfind(\"in\")]) >= 59 and int(kval[1][:kval[1].rfind(\"in\")]) <= 76:\n",
    "                    fieldValid = True\n",
    "            elif kval[1].rfind(\"cm\") != -1:\n",
    "                if int(kval[1][: kval[1].rfind(\"cm\")]) >= 150 and int(kval[1][: kval[1].rfind(\"cm\")]) <= 193:\n",
    "                    fieldValid = True\n",
    "        elif kval[0] == \"hcl\" and re.match(r'^#[0-9a-f][0-9a-f][0-9a-f][0-9a-f][0-9a-f][0-9a-f]$', kval[1]):\n",
    "            fieldValid = True\n",
    "        elif kval[0] == \"ecl\" and kval[1] in eyeColors:\n",
    "            fieldValid = True\n",
    "        elif kval[0] == \"pid\" and re.match(r'^\\d\\d\\d\\d\\d\\d\\d\\d\\d$', kval[1]):\n",
    "            fieldValid = True\n",
    "        elif kval[0] == \"cid\":\n",
    "            fieldValid = True\n",
    "        if not fieldValid:\n",
    "            return False\n",
    "    return True\n",
    "\n",
    "\n",
    "p1Count = 0\n",
    "p2Count = 0\n",
    "\n",
    "for pp in inputSpl:\n",
    "    if determine(pp, False):\n",
    "        p1Count += 1\n",
    "    if determine(pp, True):\n",
    "        p2Count += 1\n",
    "\n",
    "print(\"Part 1:\", p1Count)\n",
    "print(\"Part 2:\", p2Count)\n"
   ]
  }
 ],
 "metadata": {
  "kernelspec": {
   "display_name": "Python 3",
   "language": "python",
   "name": "python3"
  },
  "language_info": {
   "codemirror_mode": {
    "name": "ipython",
    "version": 3
   },
   "file_extension": ".py",
   "mimetype": "text/x-python",
   "name": "python",
   "nbconvert_exporter": "python",
   "pygments_lexer": "ipython3",
   "version": "3.8.5"
  }
 },
 "nbformat": 4,
 "nbformat_minor": 4
}

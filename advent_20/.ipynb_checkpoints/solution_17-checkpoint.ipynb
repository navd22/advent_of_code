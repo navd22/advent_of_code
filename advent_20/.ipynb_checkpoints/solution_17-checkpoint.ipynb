{
 "cells": [
  {
   "cell_type": "code",
   "execution_count": 1,
   "metadata": {},
   "outputs": [
    {
     "name": "stdout",
     "output_type": "stream",
     "text": [
      "57\n",
      "112\n",
      "139\n",
      "238\n",
      "230\n",
      "424\n"
     ]
    }
   ],
   "source": [
    "import sys, itertools\n",
    "\n",
    "def simulate(state):\n",
    "    cells = set()\n",
    "    for x,y,z in state:\n",
    "        cells.update(\n",
    "            (x+dx, y+dy, z+dz)\n",
    "            for dx, dy, dz in itertools.product([-1,0,1], repeat=3)\n",
    "        )\n",
    "\n",
    "    new_state = set()\n",
    "    for x, y, z in cells:\n",
    "        total = sum(\n",
    "            (x+dx, y+dy, z+dz) in state\n",
    "            for dx, dy, dz in itertools.product([-1,0,1], repeat=3)\n",
    "            if (dx!=0 or dy!=0 or dz!=0)\n",
    "        )\n",
    "        if (x,y,z) in state:\n",
    "            if 2 <= total <= 3:\n",
    "                new_state.add((x,y,z))\n",
    "        else:\n",
    "            if total == 3:\n",
    "                new_state.add((x,y,z))\n",
    "\n",
    "    return new_state\n",
    "\n",
    "\n",
    "\n",
    "space = set()\n",
    "DATA = open('17.txt').read().splitlines()\n",
    "\n",
    "for y, line in enumerate(DATA):\n",
    "    for x, char in enumerate(line):\n",
    "        if char == '#':\n",
    "            space.add((x,y,0))\n",
    "\n",
    "\n",
    "for i in range(6):\n",
    "\n",
    "    space =simulate(space)\n",
    "    print(len(space))"
   ]
  },
  {
   "cell_type": "code",
   "execution_count": 5,
   "metadata": {},
   "outputs": [
    {
     "name": "stdout",
     "output_type": "stream",
     "text": [
      "8546398\n"
     ]
    }
   ],
   "source": [
    "import sys, itertools\n",
    "\n",
    "def simulate(state):\n",
    "    cells = set()\n",
    "    for x,y,z,t in state:\n",
    "        cells.update(\n",
    "            (x+dx, y+dy, z+dz, t+dt)\n",
    "            for dx, dy, dz, dt in itertools.product([-1,0,1], repeat=4)\n",
    "        )\n",
    "\n",
    "    new_state = set()\n",
    "    for x, y, z, t in cells:\n",
    "        total = sum(\n",
    "            (x+dx, y+dy, z+dz, t+dt) in state\n",
    "            for dx, dy, dz, dt in itertools.product([-1,0,1], repeat=4)\n",
    "            if (dx!=0 or dy!=0 or dz!=0 or dt!=0)\n",
    "        )\n",
    "        if (x,y,z,t) in state:\n",
    "            if 2 <= total <= 3:\n",
    "                new_state.add((x,y,z,t))\n",
    "        else:\n",
    "            if total == 3:\n",
    "                new_state.add((x,y,z,t))\n",
    "\n",
    "    return new_state\n",
    "\n",
    "\n",
    "\n",
    "space = set()\n",
    "DATA = open('17.txt').read().splitlines()\n",
    "for y, line in enumerate(DATA):\n",
    "    for x, char in enumerate(line):\n",
    "        if char == '#':\n",
    "            space.add((x,y,0,0))\n",
    "\n",
    "\n",
    "for i in range(6):\n",
    "\n",
    "    space =simulate(space)\n",
    "    print(len(space))"
   ]
  },
  {
   "cell_type": "code",
   "execution_count": null,
   "metadata": {},
   "outputs": [],
   "source": []
  },
  {
   "cell_type": "code",
   "execution_count": null,
   "metadata": {},
   "outputs": [],
   "source": []
  }
 ],
 "metadata": {
  "kernelspec": {
   "display_name": "Python 3",
   "language": "python",
   "name": "python3"
  },
  "language_info": {
   "codemirror_mode": {
    "name": "ipython",
    "version": 3
   },
   "file_extension": ".py",
   "mimetype": "text/x-python",
   "name": "python",
   "nbconvert_exporter": "python",
   "pygments_lexer": "ipython3",
   "version": "3.8.5"
  }
 },
 "nbformat": 4,
 "nbformat_minor": 4
}

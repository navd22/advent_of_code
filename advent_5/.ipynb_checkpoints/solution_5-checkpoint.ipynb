{
 "cells": [
  {
   "cell_type": "code",
   "execution_count": 1,
   "metadata": {},
   "outputs": [
    {
     "name": "stdout",
     "output_type": "stream",
     "text": [
      "Part 1:  930\n",
      "Part 2:  515\n"
     ]
    }
   ],
   "source": [
    "import re\n",
    "\n",
    "with open('5.input') as f:\n",
    "    input = f.readlines()\n",
    "\n",
    "seats = set()\n",
    "for seat in input:\n",
    "    low = 0\n",
    "    high = 128\n",
    "    left = 0\n",
    "    right = 8\n",
    "    row = 0\n",
    "    col = 0\n",
    "    for i, c in enumerate(seat):\n",
    "        if c == \"F\":\n",
    "            high = high - (high-low)/2\n",
    "        if c == \"B\":\n",
    "            low = low + (high-low)/2\n",
    "        if c == \"L\":\n",
    "            right = right - (right-left)/2\n",
    "        if c == \"R\":\n",
    "            left = left + (right-left)/2\n",
    "        if i == 6 and c == \"F\":\n",
    "            row = high - 1\n",
    "        elif i == 6 and c == \"B\":\n",
    "            row = low\n",
    "        elif i == 9 and c == \"L\":\n",
    "            col = left\n",
    "        elif i == 9 and c == \"R\":\n",
    "            col = right - 1\n",
    "    seats.add(int(row*8+col))\n",
    "\n",
    "print(\"Part 1: \", max(seats))\n",
    "\n",
    "for i in range(max(seats)):\n",
    "    if (i not in seats) and (i+1 in seats) and (i-1 in seats):\n",
    "        print(\"Part 2: \", i)"
   ]
  }
 ],
 "metadata": {
  "kernelspec": {
   "display_name": "Python 3",
   "language": "python",
   "name": "python3"
  },
  "language_info": {
   "codemirror_mode": {
    "name": "ipython",
    "version": 3
   },
   "file_extension": ".py",
   "mimetype": "text/x-python",
   "name": "python",
   "nbconvert_exporter": "python",
   "pygments_lexer": "ipython3",
   "version": "3.8.5"
  }
 },
 "nbformat": 4,
 "nbformat_minor": 4
}

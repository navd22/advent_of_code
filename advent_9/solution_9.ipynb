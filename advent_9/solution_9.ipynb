{
 "cells": [
  {
   "cell_type": "code",
   "execution_count": 2,
   "metadata": {},
   "outputs": [
    {
     "name": "stdout",
     "output_type": "stream",
     "text": [
      "Part 1: 70639851\n",
      "Part 2: 8249240\n"
     ]
    }
   ],
   "source": [
    "from itertools import permutations\n",
    "\n",
    "with open(\"9.txt\") as file:\n",
    "    data = file.read().strip()\n",
    "\n",
    "numbers = [int(i) for i in data.splitlines()]\n",
    "\n",
    "\n",
    "def find_invalid(nums, preamble=25):\n",
    "    for i, n in enumerate(nums):\n",
    "        if i < preamble:\n",
    "            continue\n",
    "        test_nums = nums[i - preamble:i]\n",
    "        if n not in (a + b for a, b in permutations(test_nums, 2)):\n",
    "            return n\n",
    "\n",
    "\n",
    "n = find_invalid(numbers)\n",
    "print(f\"Part 1: {n}\")\n",
    "\n",
    "\n",
    "def find_range(number, nums):\n",
    "    for i in range(len(nums)):\n",
    "        for j in range(len(nums)):\n",
    "            if sum(nums[i:j]) == number:\n",
    "                return nums[i:j]\n",
    "\n",
    "\n",
    "r = find_range(n, numbers)\n",
    "print(f\"Part 2: {min(r)+max(r)}\")"
   ]
  },
  {
   "cell_type": "code",
   "execution_count": null,
   "metadata": {},
   "outputs": [],
   "source": []
  }
 ],
 "metadata": {
  "kernelspec": {
   "display_name": "Python 3",
   "language": "python",
   "name": "python3"
  },
  "language_info": {
   "codemirror_mode": {
    "name": "ipython",
    "version": 3
   },
   "file_extension": ".py",
   "mimetype": "text/x-python",
   "name": "python",
   "nbconvert_exporter": "python",
   "pygments_lexer": "ipython3",
   "version": "3.8.5"
  }
 },
 "nbformat": 4,
 "nbformat_minor": 4
}

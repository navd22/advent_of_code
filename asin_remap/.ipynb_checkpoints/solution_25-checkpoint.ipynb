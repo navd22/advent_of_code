{
 "cells": [
  {
   "cell_type": "code",
   "execution_count": 2,
   "metadata": {},
   "outputs": [
    {
     "name": "stdout",
     "output_type": "stream",
     "text": [
      "6011069\n"
     ]
    }
   ],
   "source": [
    "public_keys = [16915772, 18447943]\n",
    "\n",
    "\n",
    "def transform(value, subject_number):\n",
    "    return (value * subject_number) % 20201227\n",
    "\n",
    "\n",
    "def find_loop_size():\n",
    "    values = [1, 1]\n",
    "    for loop_size in range(1, 100_000_000):\n",
    "        for x in [0, 1]:\n",
    "            values[x] = transform(values[x], 7)\n",
    "            if values[x] == public_keys[x]:\n",
    "                return loop_size, x\n",
    "\n",
    "\n",
    "loops, device = find_loop_size()\n",
    "encryption_key = 1\n",
    "for _ in range(loops):\n",
    "    encryption_key = transform(encryption_key, public_keys[1 - device])\n",
    "\n",
    "print(encryption_key)"
   ]
  },
  {
   "cell_type": "code",
   "execution_count": 3,
   "metadata": {},
   "outputs": [
    {
     "name": "stdout",
     "output_type": "stream",
     "text": [
      "card loop: 4618530 part1: 6011069\n"
     ]
    }
   ],
   "source": [
    "  \n",
    "from functools import lru_cache\n",
    "\n",
    "@lru_cache(1)\n",
    "def recurse(iterations):\n",
    "    if iterations == 0:\n",
    "        return 1\n",
    "    return 7 * recurse(iterations - 1) % 20201227\n",
    "\n",
    "def transform(sn, iterations):\n",
    "    result = 1\n",
    "    for n in range(iterations):\n",
    "        result = sn * result % 20201227\n",
    "    return result\n",
    "\n",
    "card_pub_key, door_pub_key = map(int, open(\"25.txt\").read().splitlines())\n",
    "\n",
    "loop = 0\n",
    "while True:\n",
    "    key = recurse(loop)\n",
    "    if key == card_pub_key:\n",
    "        print(\"card loop:\", loop, \"part1:\", transform(door_pub_key, loop))\n",
    "        break\n",
    "    if key == door_pub_key:\n",
    "        print(\"door loop:\", loop, \"part1:\", transform(card_pub_key, loop))\n",
    "        break\n",
    "    loop += 1"
   ]
  },
  {
   "cell_type": "code",
   "execution_count": null,
   "metadata": {},
   "outputs": [],
   "source": []
  }
 ],
 "metadata": {
  "kernelspec": {
   "display_name": "Python 3",
   "language": "python",
   "name": "python3"
  },
  "language_info": {
   "codemirror_mode": {
    "name": "ipython",
    "version": 3
   },
   "file_extension": ".py",
   "mimetype": "text/x-python",
   "name": "python",
   "nbconvert_exporter": "python",
   "pygments_lexer": "ipython3",
   "version": "3.8.5"
  }
 },
 "nbformat": 4,
 "nbformat_minor": 4
}

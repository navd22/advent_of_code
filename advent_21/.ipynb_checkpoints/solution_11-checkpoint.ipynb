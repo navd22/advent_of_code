{
 "cells": [
  {
   "cell_type": "code",
   "execution_count": 6,
   "metadata": {},
   "outputs": [
    {
     "name": "stdout",
     "output_type": "stream",
     "text": [
      "2438\n",
      "2174\n"
     ]
    }
   ],
   "source": [
    "import itertools\n",
    "import math\n",
    "from pathlib import Path\n",
    "\n",
    "# FILE_DIR = Path(__file__).parent\n",
    "\n",
    "#DATA = (FILE_DIR / \"input\" / \"day11.txt\").read_text().strip().split('\\n')\n",
    "DATA = open('11.txt').read().splitlines()\n",
    "w = len(DATA[0])\n",
    "h = len(DATA)\n",
    "\n",
    "COORDS = [(-1, -1), (-1, 0), (-1, 1), (1, -1), (1, 0), (1, 1), (0, 1), (0, -1)]\n",
    "\n",
    "def print_grid(grid):\n",
    "    for i in range(h):\n",
    "        for j in range(w):\n",
    "            if grid[i][j] == 1:\n",
    "                print(\"#\", end='')\n",
    "            elif grid[i][j] == 0:\n",
    "                print(\"L\", end='')\n",
    "            else:\n",
    "                print(\".\", end='')\n",
    "        print()\n",
    "    print()\n",
    "\n",
    "def is_equal(grid1, grid2):\n",
    "    for i in range(h):\n",
    "        for j in range(w):\n",
    "            if grid1[i][j] != grid2[i][j]:\n",
    "                return False\n",
    "    return True\n",
    "\n",
    "def apply_rules(grid, i, j):\n",
    "    neighbor_count = 0\n",
    "    for c in COORDS:\n",
    "        new_i = c[0] + i\n",
    "        new_j = c[1] + j\n",
    "        if 0 <= new_i < h and 0 <= new_j < w:\n",
    "            if grid[new_i][new_j] == 1:\n",
    "                neighbor_count += 1\n",
    "    if neighbor_count == 0 and grid[i][j] == 0:\n",
    "        return 1\n",
    "    if neighbor_count >= 4 and grid[i][j] == 1:\n",
    "        return 0\n",
    "    return grid[i][j]\n",
    "\n",
    "def apply_rules_two(grid, i, j):\n",
    "    neighbor_count = 0\n",
    "    for c in COORDS:\n",
    "        new_i = c[0] + i\n",
    "        new_j = c[1] + j\n",
    "        while 0 <= new_i < h and 0 <= new_j < w:\n",
    "            if grid[new_i][new_j] == 1:\n",
    "                neighbor_count += 1\n",
    "                break\n",
    "            elif grid[new_i][new_j] == 0:\n",
    "                break\n",
    "            else:\n",
    "                new_i = new_i + c[0]\n",
    "                new_j = new_j + c[1]\n",
    "    if neighbor_count == 0 and grid[i][j] == 0:\n",
    "        return 1\n",
    "    if neighbor_count >= 5 and grid[i][j] == 1:\n",
    "        return 0\n",
    "    return grid[i][j]\n",
    "\n",
    "def advance(grid):\n",
    "    next_grid = []\n",
    "    for _ in range(h):\n",
    "        next_grid.append([0]*w)\n",
    "    for i in range(h):\n",
    "        for j in range(w):\n",
    "             next_grid[i][j] = apply_rules(grid, i, j)\n",
    "    return next_grid\n",
    "\n",
    "def advance_two(grid):\n",
    "    next_grid = []\n",
    "    for _ in range(h):\n",
    "        next_grid.append([0]*w)\n",
    "    for i in range(h):\n",
    "        for j in range(w):\n",
    "             next_grid[i][j] = apply_rules_two(grid, i, j)\n",
    "    return next_grid\n",
    "\n",
    "def part_one(grid):\n",
    "    next_grid = advance(grid)\n",
    "    while not is_equal(grid, next_grid):\n",
    "        grid = next_grid\n",
    "        next_grid = advance(grid)\n",
    "        # print_grid(next_grid)\n",
    "    count = 0\n",
    "    for i in range(h):\n",
    "        for j in range(w):\n",
    "            if grid[i][j] == 1:\n",
    "                count += 1\n",
    "    return count\n",
    "\n",
    "def part_two(grid):\n",
    "    next_grid = advance_two(grid)\n",
    "    while not is_equal(grid, next_grid):\n",
    "        grid = next_grid\n",
    "        next_grid = advance_two(grid)\n",
    "        # print_grid(next_grid)\n",
    "    count = 0\n",
    "    for i in range(h):\n",
    "        for j in range(w):\n",
    "            if grid[i][j] == 1:\n",
    "                count += 1\n",
    "    return count\n",
    "\n",
    "\n",
    "if __name__ == \"__main__\":\n",
    "    grid = [[0 if c == \"L\" else 2 for c in line] for line in DATA]\n",
    "    print(part_one(grid))\n",
    "    print(part_two(grid))"
   ]
  },
  {
   "cell_type": "code",
   "execution_count": 6,
   "metadata": {},
   "outputs": [
    {
     "name": "stdout",
     "output_type": "stream",
     "text": [
      "Element number is 0\n",
      "Element  is 0.5\n",
      "Range is range(0, 5)\n",
      "Length is 5\n",
      "Dataset is [0.5, 0.0, 0.0, 0.0, 0.0]\n",
      "Element number is 1\n",
      "Element  is 0.0\n",
      "Range is range(0, 5)\n",
      "Length is 5\n",
      "Dataset is [0.5, 0.0, 0.0, 0.0, 0.0]\n",
      "Element number is 2\n",
      "Element  is 0.0\n",
      "Range is range(0, 5)\n",
      "Length is 5\n",
      "Dataset is [0.5, 0.0, 0.0, 0.0, 0.0]\n",
      "Element number is 3\n",
      "Element  is 0.0\n",
      "Range is range(0, 5)\n",
      "Length is 5\n",
      "Dataset is [0.5, 0.0, 0.0, 0.0, 0.0]\n",
      "Element number is 4\n",
      "Element  is 0.0\n",
      "Range is range(0, 5)\n",
      "Length is 5\n",
      "Dataset is [0.5, 0.0, 0.0, 0.0, 0.0]\n"
     ]
    }
   ],
   "source": [
    "data = [0.5, 0.0, 0.0, 0.0, 0.0]\n",
    "for i in range(len(data)):\n",
    "    print(f\"Element number is {i}\")\n",
    "    print(f\"Element  is {data[i]}\")\n",
    "    print(f\"Range is {range(len(data))}\")\n",
    "    print(f\"Length is {(len(data))}\")\n",
    "    print(f\"Dataset is {data}\")"
   ]
  },
  {
   "cell_type": "code",
   "execution_count": 11,
   "metadata": {},
   "outputs": [
    {
     "data": {
      "text/plain": [
       "4"
      ]
     },
     "execution_count": 11,
     "metadata": {},
     "output_type": "execute_result"
    }
   ],
   "source": [
    "data = [0.5, 0.0, 0.0, 0.0, 1.0]\n",
    "data[-1]\n",
    "i = (len(data)-1)\n",
    "i"
   ]
  },
  {
   "cell_type": "code",
   "execution_count": null,
   "metadata": {},
   "outputs": [],
   "source": []
  }
 ],
 "metadata": {
  "kernelspec": {
   "display_name": "Python 3",
   "language": "python",
   "name": "python3"
  },
  "language_info": {
   "codemirror_mode": {
    "name": "ipython",
    "version": 3
   },
   "file_extension": ".py",
   "mimetype": "text/x-python",
   "name": "python",
   "nbconvert_exporter": "python",
   "pygments_lexer": "ipython3",
   "version": "3.8.5"
  }
 },
 "nbformat": 4,
 "nbformat_minor": 4
}

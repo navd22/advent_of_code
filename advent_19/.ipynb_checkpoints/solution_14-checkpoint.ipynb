{
 "cells": [
  {
   "cell_type": "code",
   "execution_count": 3,
   "metadata": {},
   "outputs": [
    {
     "name": "stdout",
     "output_type": "stream",
     "text": [
      "11327140210986\n"
     ]
    }
   ],
   "source": [
    "#!/usr/bin/env python3\n",
    "\n",
    "import collections\n",
    "import fileinput\n",
    "import re\n",
    "\n",
    "def ormask(mask_str):\n",
    "    assert len(mask_str) == 36\n",
    "    mask = mask_str.replace(\"X\", \"0\")\n",
    "    return int(mask, 2)\n",
    "\n",
    "def andmask(mask_str):\n",
    "    assert len(mask_str) == 36\n",
    "    mask = mask_str.replace(\"X\", \"1\")\n",
    "    return int(mask, 2)\n",
    "\n",
    "def part1():\n",
    "    mem = collections.defaultdict(int)\n",
    "    or_mask = None\n",
    "    and_mask = None\n",
    "    DATA = open('14.txt').read().splitlines()\n",
    "    for line in DATA:\n",
    "        if line.startswith(\"mask\"):\n",
    "            mask_str = line.strip()[7:]\n",
    "            or_mask = ormask(mask_str)\n",
    "            and_mask = andmask(mask_str)\n",
    "        else:\n",
    "            assert line.startswith(\"mem\")\n",
    "            g = re.match(r\"^mem\\[(\\d+)\\] = (\\d+)$\", line)\n",
    "            addr, val = g.groups()\n",
    "            mem[addr] = int(val) & and_mask | or_mask\n",
    "    return sum(mem.values())\n",
    "\n",
    "def part2():\n",
    "    [line.strip() for line in fileinput.input()]\n",
    "    for line in fileinput.input():\n",
    "        pass\n",
    "    return\n",
    "\n",
    "print(part1())\n",
    "#print(part2())"
   ]
  },
  {
   "cell_type": "code",
   "execution_count": 4,
   "metadata": {},
   "outputs": [
    {
     "name": "stdout",
     "output_type": "stream",
     "text": [
      "2308180581795\n"
     ]
    }
   ],
   "source": [
    "import sys, re, itertools\n",
    "\n",
    "mask = None\n",
    "mem = {}\n",
    "\n",
    "\n",
    "DATA = open('14.txt').read().splitlines()\n",
    "for line in DATA:\n",
    "    if m := re.fullmatch(\"mask = ([X01]{36})\", line):\n",
    "        mask = m.group(1)\n",
    "    else:\n",
    "        m = re.fullmatch(r\"mem\\[(\\d+)\\] = (\\d+)\", line)\n",
    "        addr, value = m.groups()\n",
    "        addr = bin(int(addr))[2:].zfill(36)\n",
    "        value = int(value)\n",
    "\n",
    "        for bits in itertools.product('01', repeat=mask.count('X')):\n",
    "            bits = list(bits)\n",
    "            addr2 = ''.join([\n",
    "                bits.pop() if m == 'X' else ('1' if m == '1' else a)\n",
    "                for m, a in zip(mask, addr)\n",
    "            ])\n",
    "            addr2 = int(addr2, 2)\n",
    "            mem[addr2] = value\n",
    "\n",
    "        # res = ''.join([\n",
    "        #     v if m == 'X' else m\n",
    "        #     for m, v in zip(mask, value)\n",
    "        # ])\n",
    "        # mem[int(addr)] = int(res, 2)\n",
    "\n",
    "print(sum(mem.values()))"
   ]
  },
  {
   "cell_type": "code",
   "execution_count": null,
   "metadata": {},
   "outputs": [],
   "source": []
  }
 ],
 "metadata": {
  "kernelspec": {
   "display_name": "Python 3",
   "language": "python",
   "name": "python3"
  },
  "language_info": {
   "codemirror_mode": {
    "name": "ipython",
    "version": 3
   },
   "file_extension": ".py",
   "mimetype": "text/x-python",
   "name": "python",
   "nbconvert_exporter": "python",
   "pygments_lexer": "ipython3",
   "version": "3.8.5"
  }
 },
 "nbformat": 4,
 "nbformat_minor": 4
}

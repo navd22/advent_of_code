{
 "cells": [
  {
   "cell_type": "code",
   "execution_count": 4,
   "metadata": {},
   "outputs": [
    {
     "name": "stdout",
     "output_type": "stream",
     "text": [
      "Number of bag colours that can eventually contain shiny: 185\n",
      "Number of bags required inside shiny gold bag: 89084\n"
     ]
    }
   ],
   "source": [
    "import re\n",
    "\n",
    "class Bag:\n",
    "    \"\"\".\"\"\"\n",
    "\n",
    "    def __init__(self, colour, contains):\n",
    "        \"\"\".\"\"\"\n",
    "        self.colour = colour\n",
    "        self.contains = contains\n",
    "        self.leads_to_shiny_gold = False\n",
    "\n",
    "        self.contents = self.process_contents()\n",
    "\n",
    "    def process_contents(self):\n",
    "        \"\"\".\"\"\"\n",
    "        contents = {}\n",
    "        for contained_bag in self.contains:\n",
    "            number, colour = contained_bag\n",
    "            if colour == 'shiny gold':\n",
    "                self.leads_to_shiny_gold = True\n",
    "            if colour != 'no other':\n",
    "                contents[colour] = int(number)\n",
    "\n",
    "        return contents\n",
    "\n",
    "\n",
    "with open ('7.txt', 'r') as f:\n",
    "    luggage_rules = [rule.strip() for rule in f.readlines()]\n",
    "\n",
    "bag_regex = re.compile('(\\d)*?\\s?(\\w*\\s\\w*)\\sbags?')\n",
    "bags = {}\n",
    "for rule in luggage_rules:\n",
    "    parsed_rule = bag_regex.findall(rule)\n",
    "    subject_bag = parsed_rule[0][1] # [0] is blank\n",
    "    bags[subject_bag] = Bag(subject_bag, parsed_rule[1:])\n",
    "\n",
    "bags_that_can_contain_shiny = 0\n",
    "while True:\n",
    "    for bag in bags:\n",
    "        for inner_bag in bags[bag].contents:\n",
    "            if bags[inner_bag].leads_to_shiny_gold:\n",
    "                bags[bag].leads_to_shiny_gold = True\n",
    "\n",
    "    shiny_count = 0\n",
    "    for bag in bags:\n",
    "        if bags[bag].leads_to_shiny_gold:\n",
    "            shiny_count += 1\n",
    "\n",
    "    if shiny_count == bags_that_can_contain_shiny:\n",
    "        break\n",
    "    else:\n",
    "        bags_that_can_contain_shiny = shiny_count\n",
    "\n",
    "\n",
    "# Answer One\n",
    "print(\"Number of bag colours that can eventually contain shiny:\",\n",
    "       bags_that_can_contain_shiny)\n",
    "\n",
    "bags_within_gold = 0\n",
    "bags_to_explore = [('shiny gold', 1)]\n",
    "while bags_to_explore:\n",
    "    current_bag, multi = bags_to_explore.pop()\n",
    "    inner_bags = bags[current_bag].contents.items()\n",
    "    for inner_bag in inner_bags:\n",
    "        colour, num_bags = inner_bag\n",
    "        num_this_colour = num_bags * multi\n",
    "        bags_within_gold += num_this_colour\n",
    "        bags_to_explore.append((colour, num_this_colour))\n",
    "\n",
    "# Answer Two\n",
    "print(\"Number of bags required inside shiny gold bag:\", bags_within_gold)"
   ]
  }
 ],
 "metadata": {
  "kernelspec": {
   "display_name": "Python 3",
   "language": "python",
   "name": "python3"
  },
  "language_info": {
   "codemirror_mode": {
    "name": "ipython",
    "version": 3
   },
   "file_extension": ".py",
   "mimetype": "text/x-python",
   "name": "python",
   "nbconvert_exporter": "python",
   "pygments_lexer": "ipython3",
   "version": "3.8.5"
  }
 },
 "nbformat": 4,
 "nbformat_minor": 4
}
